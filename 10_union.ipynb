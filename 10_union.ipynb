{
 "cells": [
  {
   "cell_type": "code",
   "execution_count": 1,
   "id": "7dcfc895",
   "metadata": {},
   "outputs": [],
   "source": [
    "import findspark\n",
    "findspark.init()\n",
    "\n",
    "import pyspark\n",
    "from pyspark.sql import SparkSession\n",
    "from pyspark.sql.functions import *\n",
    "spark = SparkSession.builder.master(\"local[1]\").appName(\"word_count\").getOrCreate()"
   ]
  },
  {
   "cell_type": "code",
   "execution_count": 2,
   "id": "0d1eae42",
   "metadata": {},
   "outputs": [],
   "source": [
    "from functools import reduce"
   ]
  },
  {
   "cell_type": "code",
   "execution_count": 3,
   "id": "239eb96e",
   "metadata": {},
   "outputs": [],
   "source": [
    "data = [(\"James\",\"M\",60000),\n",
    "        (\"Michael\",\"M\",70000),\n",
    "        (\"Robert\",None,400000),\n",
    "        (\"Maria\",\"F\",500000)\n",
    "        ]\n",
    "\n",
    "columns = [\"name\",\"gender\",\"salary\"]\n",
    "df = spark.createDataFrame(data = data, schema = columns)"
   ]
  },
  {
   "cell_type": "code",
   "execution_count": 10,
   "id": "008b687c",
   "metadata": {},
   "outputs": [
    {
     "data": {
      "text/plain": [
       "Row(max(salary)=500000, min(salary)=60000)"
      ]
     },
     "execution_count": 10,
     "metadata": {},
     "output_type": "execute_result"
    }
   ],
   "source": [
    "#find max value\n",
    "df.select(max('salary'),min('salary')).first()"
   ]
  },
  {
   "cell_type": "code",
   "execution_count": null,
   "id": "08cbeb3c",
   "metadata": {},
   "outputs": [],
   "source": []
  },
  {
   "cell_type": "code",
   "execution_count": null,
   "id": "7bd34db9",
   "metadata": {},
   "outputs": [],
   "source": [
    "data = [(\"Maria\",\"F\",500000),\n",
    "        (\"Jen\",\"T\",566),\n",
    "        (\"Jol\",\"\",909)]\n",
    "\n",
    "columns = [\"name\",\"gender\",\"salary\"]\n",
    "df1 = spark.createDataFrame(data = data, schema = columns)"
   ]
  },
  {
   "cell_type": "code",
   "execution_count": null,
   "id": "733b4a40",
   "metadata": {},
   "outputs": [],
   "source": [
    "data = [(\"Maria\",\"F\"),\n",
    "        (\"Jen_1\",\"T\"),\n",
    "        (\"Jol_2\",\"\")]\n",
    "\n",
    "columns = [\"name\",\"gender\"]\n",
    "df2 = spark.createDataFrame(data = data, schema = columns)"
   ]
  },
  {
   "cell_type": "code",
   "execution_count": null,
   "id": "f4ff57b7",
   "metadata": {},
   "outputs": [],
   "source": [
    "mergedf = [df,df1]\n",
    "unify = reduce(DataFrame.unionAll, mergedf)"
   ]
  },
  {
   "cell_type": "code",
   "execution_count": null,
   "id": "80c0c3e1",
   "metadata": {},
   "outputs": [],
   "source": [
    "unify.show()"
   ]
  },
  {
   "cell_type": "code",
   "execution_count": null,
   "id": "ae465342",
   "metadata": {},
   "outputs": [],
   "source": [
    "unify_1 = reduce(DataFrame.unionByName, mergedf)\n",
    "unify_1.show()"
   ]
  },
  {
   "cell_type": "code",
   "execution_count": null,
   "id": "0dd8c5fc",
   "metadata": {},
   "outputs": [],
   "source": [
    "def unite_dfs(df1,df2):\n",
    "    return df1.unionByName(df2,allowMissingColumns = True)"
   ]
  },
  {
   "cell_type": "code",
   "execution_count": null,
   "id": "13264c0a",
   "metadata": {},
   "outputs": [],
   "source": [
    "mergedf = [df,df1,df2]\n",
    "dn_df = reduce(unite_dfs, mergedf)"
   ]
  },
  {
   "cell_type": "code",
   "execution_count": null,
   "id": "275a44a3",
   "metadata": {},
   "outputs": [],
   "source": [
    "dn_df.show()"
   ]
  },
  {
   "cell_type": "code",
   "execution_count": null,
   "id": "4020fe1b",
   "metadata": {},
   "outputs": [],
   "source": [
    "data = [(\"1\",\"11\",\"01/01/2022 00:00:00\",\"05/01/2022 00:00:00\"),\n",
    "        (\"2\",\"22\",\"07/01/2022 00:00:00\",\"10/01/2022 00:00:00\"),\n",
    "        (\"3\",\"33\",\"09/01/2022 00:00:00\",\"11/01/2022 00:00:00\"),\n",
    "        (\"4\",\"44\",\"01/02/2022 00:00:00\",\"05/02/2022 00:00:00\"),\n",
    "        (\"5\",\"55\",\"03/02/2022 00:00:00\",\"09/02/2022 00:00:00\"),\n",
    "        (\"6\",\"66\",\"05/02/2022 00:00:00\",\"10/02/2022 00:00:00\")]\n",
    "\n",
    "columns = [\"pc_version\",\"n_ticket\",\"start_time\",\"end_time\"]\n",
    "df = spark.createDataFrame(data = data, schema = columns)"
   ]
  },
  {
   "cell_type": "code",
   "execution_count": null,
   "id": "c29dd1c4",
   "metadata": {},
   "outputs": [],
   "source": [
    "data = [(\"02/01/2022 00:00:00\",\"03/01/2022 00:00:00\"),\n",
    "        (\"05/01/2022 00:00:00\",\"09/01/2022 00:00:00\"),\n",
    "        (\"09/01/2022 00:00:00\",\"11/01/2022 00:00:00\"),\n",
    "        (\"01/02/2022 00:00:00\",\"05/02/2022 00:00:00\"),\n",
    "        (\"03/02/2022 00:00:00\",\"09/02/2022 00:00:00\"),\n",
    "        (\"05/02/2022 00:00:00\",\"10/02/2022 00:00:00\")]\n",
    "\n",
    "columns = [\"start_time\",\"end_time\"]\n",
    "df1 = spark.createDataFrame(data = data, schema = columns)"
   ]
  },
  {
   "cell_type": "code",
   "execution_count": null,
   "id": "b49e5807",
   "metadata": {},
   "outputs": [],
   "source": [
    "df.show()"
   ]
  },
  {
   "cell_type": "code",
   "execution_count": null,
   "id": "15421e0d",
   "metadata": {},
   "outputs": [],
   "source": [
    "df1.show()"
   ]
  },
  {
   "cell_type": "code",
   "execution_count": null,
   "id": "5079dec4",
   "metadata": {},
   "outputs": [],
   "source": [
    "df1_start_time = df1.select('start_time').rdd.flatMap(lambda x:x)"
   ]
  },
  {
   "cell_type": "code",
   "execution_count": null,
   "id": "32fcf98c",
   "metadata": {},
   "outputs": [],
   "source": [
    "df1_start_time.collect()"
   ]
  },
  {
   "cell_type": "code",
   "execution_count": null,
   "id": "ab171e1d",
   "metadata": {},
   "outputs": [],
   "source": [
    "df1_end_time = df1.select('end_time').rdd.flatMap(lambda x:x)"
   ]
  },
  {
   "cell_type": "code",
   "execution_count": null,
   "id": "5045d112",
   "metadata": {},
   "outputs": [],
   "source": [
    "df1_end_time.collect()"
   ]
  },
  {
   "cell_type": "code",
   "execution_count": null,
   "id": "65c20b7f",
   "metadata": {},
   "outputs": [],
   "source": [
    "dfs = ['02/01/2022 00:00:00',\n",
    " '05/01/2022 00:00:00',\n",
    " '09/01/2022 00:00:00',\n",
    " '01/02/2022 00:00:00',\n",
    " '03/02/2022 00:00:00',\n",
    " '05/02/2022 00:00:00']\n",
    "dfs"
   ]
  },
  {
   "cell_type": "code",
   "execution_count": null,
   "id": "7372527a",
   "metadata": {},
   "outputs": [],
   "source": [
    "df.filter(col('start_time').isin(dfs)).show()"
   ]
  },
  {
   "cell_type": "code",
   "execution_count": null,
   "id": "b5df30f6",
   "metadata": {},
   "outputs": [],
   "source": []
  }
 ],
 "metadata": {
  "kernelspec": {
   "display_name": "Python 3 (ipykernel)",
   "language": "python",
   "name": "python3"
  },
  "language_info": {
   "codemirror_mode": {
    "name": "ipython",
    "version": 3
   },
   "file_extension": ".py",
   "mimetype": "text/x-python",
   "name": "python",
   "nbconvert_exporter": "python",
   "pygments_lexer": "ipython3",
   "version": "3.10.1"
  }
 },
 "nbformat": 4,
 "nbformat_minor": 5
}
