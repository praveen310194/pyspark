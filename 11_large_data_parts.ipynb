{
 "cells": [
  {
   "cell_type": "code",
   "execution_count": null,
   "id": "4f5d32d4",
   "metadata": {},
   "outputs": [],
   "source": [
    "import findspark\n",
    "findspark.init()\n",
    "\n",
    "import pyspark\n",
    "from pyspark.sql import SparkSession\n",
    "from pyspark.sql.functions import *\n",
    "spark = SparkSession.builder.master('local[1]').appName('file_test').getOrCreate()"
   ]
  },
  {
   "cell_type": "code",
   "execution_count": null,
   "id": "6c6335d9",
   "metadata": {},
   "outputs": [],
   "source": [
    "spark"
   ]
  },
  {
   "cell_type": "code",
   "execution_count": null,
   "id": "bd7b3c14",
   "metadata": {},
   "outputs": [],
   "source": [
    "#data_308 = spark.read.options(header='True', delimiter=',').csv('sample_data_308mb.csv')"
   ]
  },
  {
   "cell_type": "code",
   "execution_count": null,
   "id": "64b1eaa7",
   "metadata": {},
   "outputs": [],
   "source": [
    "#data_308.rdd.getNumPartitions()"
   ]
  },
  {
   "cell_type": "code",
   "execution_count": null,
   "id": "3a380db2",
   "metadata": {},
   "outputs": [],
   "source": [
    "#data_308.groupBy(spark_partition_id()).count().orderBy(desc(\"count\")).show()"
   ]
  },
  {
   "cell_type": "code",
   "execution_count": null,
   "id": "5f322f21",
   "metadata": {},
   "outputs": [],
   "source": [
    "df = spark.read.csv('./large_data/*')"
   ]
  },
  {
   "cell_type": "code",
   "execution_count": null,
   "id": "cfc90ad7",
   "metadata": {},
   "outputs": [],
   "source": []
  },
  {
   "cell_type": "code",
   "execution_count": null,
   "id": "2c1edfc1",
   "metadata": {},
   "outputs": [],
   "source": []
  },
  {
   "cell_type": "code",
   "execution_count": null,
   "id": "907df4e2",
   "metadata": {},
   "outputs": [],
   "source": []
  },
  {
   "cell_type": "code",
   "execution_count": null,
   "id": "8eec70df",
   "metadata": {},
   "outputs": [],
   "source": [
    "data = spark.read.options(header='True', delimiter=',').csv('sample_data.csv')"
   ]
  },
  {
   "cell_type": "code",
   "execution_count": null,
   "id": "a7d8f8e3",
   "metadata": {},
   "outputs": [],
   "source": [
    "data.rdd.getNumPartitions()"
   ]
  },
  {
   "cell_type": "code",
   "execution_count": null,
   "id": "ca54bed2",
   "metadata": {},
   "outputs": [],
   "source": [
    "#df = spark.read.options(header='True', delimiter=',').csv('./large_data/*')"
   ]
  },
  {
   "cell_type": "code",
   "execution_count": null,
   "id": "1964e212",
   "metadata": {},
   "outputs": [],
   "source": [
    "data_30 = spark.read.options(header='True', delimiter=',').csv('sample_data_30mb.csv')"
   ]
  },
  {
   "cell_type": "code",
   "execution_count": null,
   "id": "43b36b1c",
   "metadata": {},
   "outputs": [],
   "source": [
    "data_30.rdd.getNumPartitions()"
   ]
  },
  {
   "cell_type": "code",
   "execution_count": null,
   "id": "40d6fc4c",
   "metadata": {},
   "outputs": [],
   "source": [
    "data_90 = spark.read.options(header='True', delimiter=',').csv('sample_data_90mb.csv')"
   ]
  },
  {
   "cell_type": "code",
   "execution_count": null,
   "id": "da80e24c",
   "metadata": {},
   "outputs": [],
   "source": [
    "data_90.rdd.getNumPartitions()"
   ]
  },
  {
   "cell_type": "code",
   "execution_count": null,
   "id": "8316abe4",
   "metadata": {},
   "outputs": [],
   "source": [
    "from functools import reduce"
   ]
  },
  {
   "cell_type": "code",
   "execution_count": null,
   "id": "4fd5bde8",
   "metadata": {},
   "outputs": [],
   "source": [
    "df_list = [data,data_30,data_90]\n",
    "df = reduce(DataFrame.unionAll,df_list)"
   ]
  },
  {
   "cell_type": "code",
   "execution_count": null,
   "id": "1984fefb",
   "metadata": {},
   "outputs": [],
   "source": [
    "df.rdd.getNumPartitions()"
   ]
  },
  {
   "cell_type": "code",
   "execution_count": null,
   "id": "3e376de0",
   "metadata": {},
   "outputs": [],
   "source": [
    "df.count()"
   ]
  },
  {
   "cell_type": "code",
   "execution_count": null,
   "id": "b88d4bfc",
   "metadata": {},
   "outputs": [],
   "source": [
    "df_1 = reduce(DataFrame.unionAll,[data_30,data_90])"
   ]
  },
  {
   "cell_type": "code",
   "execution_count": null,
   "id": "4183fa10",
   "metadata": {},
   "outputs": [],
   "source": [
    "df_1.rdd.getNumPartitions()"
   ]
  },
  {
   "cell_type": "code",
   "execution_count": null,
   "id": "6161672b",
   "metadata": {},
   "outputs": [],
   "source": []
  }
 ],
 "metadata": {
  "kernelspec": {
   "display_name": "Python 3 (ipykernel)",
   "language": "python",
   "name": "python3"
  },
  "language_info": {
   "codemirror_mode": {
    "name": "ipython",
    "version": 3
   },
   "file_extension": ".py",
   "mimetype": "text/x-python",
   "name": "python",
   "nbconvert_exporter": "python",
   "pygments_lexer": "ipython3",
   "version": "3.10.1"
  }
 },
 "nbformat": 4,
 "nbformat_minor": 5
}
