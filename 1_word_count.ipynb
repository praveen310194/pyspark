{
 "cells": [
  {
   "cell_type": "code",
   "execution_count": null,
   "id": "b75ed4b5",
   "metadata": {},
   "outputs": [],
   "source": [
    "import findspark\n",
    "findspark.init()\n",
    "\n",
    "import pyspark\n",
    "from pyspark.sql import SparkSession\n",
    "from pyspark.sql.functions import *\n",
    "spark = SparkSession.builder.master(\"local[*]\").appName(\"word_count\").getOrCreate()"
   ]
  },
  {
   "cell_type": "code",
   "execution_count": null,
   "id": "b0faefb4",
   "metadata": {},
   "outputs": [],
   "source": [
    "spark"
   ]
  },
  {
   "cell_type": "code",
   "execution_count": null,
   "id": "07ae4bf6",
   "metadata": {},
   "outputs": [],
   "source": [
    "#spark.stop() #--to stop session"
   ]
  },
  {
   "cell_type": "code",
   "execution_count": null,
   "id": "b22eca21",
   "metadata": {},
   "outputs": [],
   "source": [
    "txt_data = spark.sparkContext.textFile(\"./txt_file.txt\")\n",
    "#txt_data.collect()"
   ]
  },
  {
   "cell_type": "code",
   "execution_count": null,
   "id": "25d4f55a",
   "metadata": {},
   "outputs": [],
   "source": [
    "txt_data.collect()"
   ]
  },
  {
   "cell_type": "code",
   "execution_count": null,
   "id": "54096014",
   "metadata": {},
   "outputs": [],
   "source": [
    "txt_data.getNumPartitions()"
   ]
  },
  {
   "cell_type": "code",
   "execution_count": null,
   "id": "615791b9",
   "metadata": {},
   "outputs": [],
   "source": [
    "words = txt_data.flatMap(lambda line : line.split(\" \"))\n",
    "#words.collect()"
   ]
  },
  {
   "cell_type": "code",
   "execution_count": null,
   "id": "a809cdfd",
   "metadata": {},
   "outputs": [],
   "source": [
    "words.collect()"
   ]
  },
  {
   "cell_type": "code",
   "execution_count": null,
   "id": "4740bdc8",
   "metadata": {},
   "outputs": [],
   "source": [
    "words_dict = words.map(lambda x : (x,1))\n",
    "words_dict.collect()"
   ]
  },
  {
   "cell_type": "code",
   "execution_count": null,
   "id": "182057a6",
   "metadata": {},
   "outputs": [],
   "source": [
    "word_count = words_dict.reduceByKey(lambda k,v:k+v)\n",
    "word_count.collect()"
   ]
  },
  {
   "cell_type": "code",
   "execution_count": null,
   "id": "ca3004ca",
   "metadata": {},
   "outputs": [],
   "source": [
    "#groupByKey()\n",
    "words_dict.groupByKey().mapValues(len).collect()"
   ]
  },
  {
   "cell_type": "code",
   "execution_count": null,
   "id": "1a9f861a",
   "metadata": {},
   "outputs": [],
   "source": [
    "data = [(\"James\",\"M\",60000),(\"Michael\",\"M\",70000),\n",
    "        (\"Robert\",None,400000),(\"Maria\",\"F\",500000),\n",
    "        (\"Jen\",\"T\",566),(\"Jol\",\"\",909)]\n",
    "\n",
    "columns = [\"name\",\"gender\",\"salary\"]\n",
    "df = spark.createDataFrame(data = data, schema = columns)\n",
    "df.show()"
   ]
  },
  {
   "cell_type": "code",
   "execution_count": null,
   "id": "190b1b11",
   "metadata": {},
   "outputs": [],
   "source": [
    "df.rdd.flatMap(lambda x: x).collect()"
   ]
  },
  {
   "cell_type": "code",
   "execution_count": null,
   "id": "8f5eefe7",
   "metadata": {},
   "outputs": [],
   "source": [
    "df.rdd.map(lambda x: x*1).collect()"
   ]
  },
  {
   "cell_type": "code",
   "execution_count": null,
   "id": "6907e2c5",
   "metadata": {},
   "outputs": [],
   "source": [
    "df.select('salary').rdd.flatMap(lambda x: x).collect()"
   ]
  },
  {
   "cell_type": "code",
   "execution_count": null,
   "id": "6fc0c335",
   "metadata": {},
   "outputs": [],
   "source": [
    "df.select('salary').rdd.flatMap(lambda x: x*2).collect()"
   ]
  },
  {
   "cell_type": "code",
   "execution_count": null,
   "id": "f4d36de1",
   "metadata": {},
   "outputs": [],
   "source": [
    "df.select('salary').rdd.map(lambda x: x*2).collect()"
   ]
  },
  {
   "cell_type": "code",
   "execution_count": null,
   "id": "c145ab9e",
   "metadata": {},
   "outputs": [],
   "source": [
    "df.select('salary').rdd.map(lambda x: x).collect()"
   ]
  },
  {
   "cell_type": "code",
   "execution_count": null,
   "id": "625cf7d8",
   "metadata": {},
   "outputs": [],
   "source": []
  }
 ],
 "metadata": {
  "kernelspec": {
   "display_name": "Python 3 (ipykernel)",
   "language": "python",
   "name": "python3"
  },
  "language_info": {
   "codemirror_mode": {
    "name": "ipython",
    "version": 3
   },
   "file_extension": ".py",
   "mimetype": "text/x-python",
   "name": "python",
   "nbconvert_exporter": "python",
   "pygments_lexer": "ipython3",
   "version": "3.10.1"
  }
 },
 "nbformat": 4,
 "nbformat_minor": 5
}
