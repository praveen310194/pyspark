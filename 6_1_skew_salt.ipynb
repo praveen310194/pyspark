{
 "cells": [
  {
   "cell_type": "code",
   "execution_count": 1,
   "id": "e303c608",
   "metadata": {},
   "outputs": [],
   "source": [
    "import findspark\n",
    "findspark.init()\n",
    "\n",
    "import pyspark\n",
    "from pyspark.sql import SparkSession\n",
    "from pyspark.sql.functions import *\n",
    "spark = SparkSession.builder.master(\"local[1]\").appName(\"skew_salt_1\").getOrCreate()"
   ]
  },
  {
   "cell_type": "code",
   "execution_count": 2,
   "id": "55c81869",
   "metadata": {},
   "outputs": [
    {
     "data": {
      "text/html": [
       "\n",
       "            <div>\n",
       "                <p><b>SparkSession - in-memory</b></p>\n",
       "                \n",
       "        <div>\n",
       "            <p><b>SparkContext</b></p>\n",
       "\n",
       "            <p><a href=\"http://praveen:4041\">Spark UI</a></p>\n",
       "\n",
       "            <dl>\n",
       "              <dt>Version</dt>\n",
       "                <dd><code>v3.3.0</code></dd>\n",
       "              <dt>Master</dt>\n",
       "                <dd><code>local[1]</code></dd>\n",
       "              <dt>AppName</dt>\n",
       "                <dd><code>skew_salt_1</code></dd>\n",
       "            </dl>\n",
       "        </div>\n",
       "        \n",
       "            </div>\n",
       "        "
      ],
      "text/plain": [
       "<pyspark.sql.session.SparkSession at 0x2e46cbda020>"
      ]
     },
     "execution_count": 2,
     "metadata": {},
     "output_type": "execute_result"
    }
   ],
   "source": [
    "spark"
   ]
  },
  {
   "cell_type": "code",
   "execution_count": 3,
   "id": "b4a68fbd",
   "metadata": {},
   "outputs": [],
   "source": [
    "import pandas as pd\n",
    "import numpy as np"
   ]
  },
  {
   "cell_type": "code",
   "execution_count": 4,
   "id": "7aa9c866",
   "metadata": {},
   "outputs": [],
   "source": [
    "spark.conf.set(\"spark.sql.autoBroadcastJoinThreshold\", -1)"
   ]
  },
  {
   "cell_type": "code",
   "execution_count": 5,
   "id": "70aad5ae",
   "metadata": {},
   "outputs": [],
   "source": [
    "length = 100\n",
    "names = np.random.choice(['Bob', 'James', 'Marek', 'Johannes', None], length)\n",
    "amounts = np.random.randint(0, 1000000, length)"
   ]
  },
  {
   "cell_type": "code",
   "execution_count": 6,
   "id": "cd20b776",
   "metadata": {},
   "outputs": [],
   "source": [
    "country = np.random.choice(\n",
    "\t['United Kingdom', 'Poland', 'USA', 'Germany', 'Russia'],\n",
    "\tlength,\n",
    "\tp = [0.05, 0.05, 0.8, 0.05, 0.05]\n",
    ")"
   ]
  },
  {
   "cell_type": "code",
   "execution_count": 7,
   "id": "ec474331",
   "metadata": {},
   "outputs": [],
   "source": [
    "#spark.conf.set(\"spark.sql.execution.arrow.enabled\",\"true\")\n",
    "data = pd.DataFrame({'name': names, 'amount': amounts, 'country': country})\n",
    "#df = spark.createDataFrame(data).repartition('country')"
   ]
  },
  {
   "cell_type": "code",
   "execution_count": 8,
   "id": "af4c305e",
   "metadata": {},
   "outputs": [
    {
     "name": "stderr",
     "output_type": "stream",
     "text": [
      "C:\\pyspark\\spark-3.3.0-bin-hadoop3\\python\\pyspark\\sql\\pandas\\conversion.py:474: FutureWarning: iteritems is deprecated and will be removed in a future version. Use .items instead.\n",
      "  for column, series in pdf.iteritems():\n",
      "C:\\pyspark\\spark-3.3.0-bin-hadoop3\\python\\pyspark\\sql\\pandas\\conversion.py:486: FutureWarning: iteritems is deprecated and will be removed in a future version. Use .items instead.\n",
      "  for column, series in pdf.iteritems():\n"
     ]
    }
   ],
   "source": [
    "countries = spark.createDataFrame(pd.DataFrame({\n",
    "\t'id': [11, 12, 13, 14, 15],\n",
    "\t'country': ['United Kingdom', 'Poland', 'USA', 'Germany', 'Russia']\n",
    "}))"
   ]
  },
  {
   "cell_type": "code",
   "execution_count": 10,
   "id": "381d748a",
   "metadata": {},
   "outputs": [
    {
     "name": "stdout",
     "output_type": "stream",
     "text": [
      "+--------------------+-----+\n",
      "|SPARK_PARTITION_ID()|count|\n",
      "+--------------------+-----+\n",
      "|                   0|  100|\n",
      "+--------------------+-----+\n",
      "\n"
     ]
    }
   ],
   "source": [
    "df = spark.createDataFrame(data)\n",
    "df.groupBy(spark_partition_id()).count().orderBy(desc(\"count\")).show()"
   ]
  },
  {
   "cell_type": "code",
   "execution_count": 11,
   "id": "e3ad4b4f",
   "metadata": {},
   "outputs": [],
   "source": [
    "#df.groupBy(spark_partition_id()).count().orderBy(desc(\"count\")).show()"
   ]
  },
  {
   "cell_type": "code",
   "execution_count": 12,
   "id": "bf529a6e",
   "metadata": {},
   "outputs": [],
   "source": [
    "#df.groupBy(spark_partition_id()).count().orderBy(desc(\"count\")).show()"
   ]
  },
  {
   "cell_type": "code",
   "execution_count": 15,
   "id": "8c23a899",
   "metadata": {},
   "outputs": [
    {
     "name": "stdout",
     "output_type": "stream",
     "text": [
      "+--------------+-----+\n",
      "|       country|count|\n",
      "+--------------+-----+\n",
      "|       Germany|    3|\n",
      "|United Kingdom|    3|\n",
      "|        Russia|    4|\n",
      "|           USA|   90|\n",
      "+--------------+-----+\n",
      "\n"
     ]
    }
   ],
   "source": [
    "df.groupBy(col('country')).agg(count('*').alias('count')).orderBy('count').show()"
   ]
  },
  {
   "cell_type": "code",
   "execution_count": 16,
   "id": "29041e28",
   "metadata": {},
   "outputs": [
    {
     "name": "stdout",
     "output_type": "stream",
     "text": [
      "+---+--------------+\n",
      "| id|       country|\n",
      "+---+--------------+\n",
      "| 11|United Kingdom|\n",
      "| 12|        Poland|\n",
      "| 13|           USA|\n",
      "| 14|       Germany|\n",
      "| 15|        Russia|\n",
      "+---+--------------+\n",
      "\n"
     ]
    }
   ],
   "source": [
    "countries.show()"
   ]
  },
  {
   "cell_type": "code",
   "execution_count": 31,
   "id": "c7cc5e03",
   "metadata": {},
   "outputs": [],
   "source": [
    "from pyspark.sql.types import *"
   ]
  },
  {
   "cell_type": "code",
   "execution_count": 34,
   "id": "50715f6a",
   "metadata": {},
   "outputs": [],
   "source": [
    "df1 = df.withColumn(\"random_col\",(round(rand()*200)).cast(IntegerType()))"
   ]
  },
  {
   "cell_type": "code",
   "execution_count": 42,
   "id": "ec13bad1",
   "metadata": {},
   "outputs": [
    {
     "name": "stdout",
     "output_type": "stream",
     "text": [
      "+---------------+---------------+\n",
      "|max(random_col)|min(random_col)|\n",
      "+---------------+---------------+\n",
      "|            200|              2|\n",
      "+---------------+---------------+\n",
      "\n"
     ]
    }
   ],
   "source": [
    "df1.select('random_col').agg(max('random_col'),min('random_col')).show()"
   ]
  },
  {
   "cell_type": "code",
   "execution_count": 57,
   "id": "9ca3486c",
   "metadata": {},
   "outputs": [
    {
     "data": {
      "text/plain": [
       "201"
      ]
     },
     "execution_count": 57,
     "metadata": {},
     "output_type": "execute_result"
    }
   ],
   "source": [
    "max_number = df1.select('random_col').agg(max('random_col').alias('maximum')).first()['maximum']+1\n",
    "max_number"
   ]
  },
  {
   "cell_type": "code",
   "execution_count": 54,
   "id": "be55d17f",
   "metadata": {},
   "outputs": [
    {
     "data": {
      "text/plain": [
       "2"
      ]
     },
     "execution_count": 54,
     "metadata": {},
     "output_type": "execute_result"
    }
   ],
   "source": [
    "min_number = df1.select('random_col').agg(min('random_col').alias('minimum')).first()['minimum']\n",
    "min_number"
   ]
  },
  {
   "cell_type": "code",
   "execution_count": null,
   "id": "38da23a7",
   "metadata": {},
   "outputs": [],
   "source": [
    "#np.random.randint(1, 200 - 1)"
   ]
  },
  {
   "cell_type": "code",
   "execution_count": 62,
   "id": "a27fdc24",
   "metadata": {},
   "outputs": [],
   "source": [
    "countries_salt = countries.withColumn('salt',explode(array([lit(i) for i in range(min_number,max_number)])))"
   ]
  },
  {
   "cell_type": "code",
   "execution_count": 64,
   "id": "73c76d79",
   "metadata": {},
   "outputs": [
    {
     "name": "stdout",
     "output_type": "stream",
     "text": [
      "+---+--------------+----+\n",
      "| id|       country|salt|\n",
      "+---+--------------+----+\n",
      "| 11|United Kingdom|   2|\n",
      "| 11|United Kingdom|   3|\n",
      "| 11|United Kingdom|   4|\n",
      "| 11|United Kingdom|   5|\n",
      "| 11|United Kingdom|   6|\n",
      "| 11|United Kingdom|   7|\n",
      "| 11|United Kingdom|   8|\n",
      "| 11|United Kingdom|   9|\n",
      "| 11|United Kingdom|  10|\n",
      "| 11|United Kingdom|  11|\n",
      "| 11|United Kingdom|  12|\n",
      "| 11|United Kingdom|  13|\n",
      "| 11|United Kingdom|  14|\n",
      "| 11|United Kingdom|  15|\n",
      "| 11|United Kingdom|  16|\n",
      "| 11|United Kingdom|  17|\n",
      "| 11|United Kingdom|  18|\n",
      "| 11|United Kingdom|  19|\n",
      "| 11|United Kingdom|  20|\n",
      "| 11|United Kingdom|  21|\n",
      "+---+--------------+----+\n",
      "only showing top 20 rows\n",
      "\n"
     ]
    }
   ],
   "source": [
    "countries_salt.show()"
   ]
  },
  {
   "cell_type": "code",
   "execution_count": 67,
   "id": "0cc5232e",
   "metadata": {},
   "outputs": [],
   "source": [
    "#salt_join\n",
    "salt_join = df1.join(countries_salt,(df1.country == countries_salt.country) & (df1.random_col == countries_salt.salt),'inner')"
   ]
  },
  {
   "cell_type": "code",
   "execution_count": 68,
   "id": "7ac6715b",
   "metadata": {},
   "outputs": [
    {
     "name": "stdout",
     "output_type": "stream",
     "text": [
      "+--------+------+-------+----------+---+-------+----+\n",
      "|    name|amount|country|random_col| id|country|salt|\n",
      "+--------+------+-------+----------+---+-------+----+\n",
      "|   James|177267|Germany|        80| 14|Germany|  80|\n",
      "|   James|129971|Germany|       127| 14|Germany| 127|\n",
      "|   James|999630|Germany|       134| 14|Germany| 134|\n",
      "|    null|401923| Russia|        43| 15| Russia|  43|\n",
      "|   James|399181| Russia|        60| 15| Russia|  60|\n",
      "|     Bob|791559| Russia|        84| 15| Russia|  84|\n",
      "|     Bob|508072| Russia|       124| 15| Russia| 124|\n",
      "|     Bob|992981|    USA|         2| 13|    USA|   2|\n",
      "|Johannes|818971|    USA|         6| 13|    USA|   6|\n",
      "|     Bob|608366|    USA|         9| 13|    USA|   9|\n",
      "|     Bob|545827|    USA|        13| 13|    USA|  13|\n",
      "|    null|382460|    USA|        15| 13|    USA|  15|\n",
      "|   Marek|247079|    USA|        15| 13|    USA|  15|\n",
      "|Johannes|891902|    USA|        16| 13|    USA|  16|\n",
      "|     Bob| 38788|    USA|        16| 13|    USA|  16|\n",
      "|    null|527968|    USA|        23| 13|    USA|  23|\n",
      "|   Marek|491460|    USA|        25| 13|    USA|  25|\n",
      "|   Marek| 45349|    USA|        25| 13|    USA|  25|\n",
      "|     Bob|240191|    USA|        29| 13|    USA|  29|\n",
      "|   James|271505|    USA|        34| 13|    USA|  34|\n",
      "+--------+------+-------+----------+---+-------+----+\n",
      "only showing top 20 rows\n",
      "\n"
     ]
    }
   ],
   "source": [
    "salt_join.show()"
   ]
  },
  {
   "cell_type": "code",
   "execution_count": 69,
   "id": "e566e1a7",
   "metadata": {},
   "outputs": [
    {
     "data": {
      "text/plain": [
       "100"
      ]
     },
     "execution_count": 69,
     "metadata": {},
     "output_type": "execute_result"
    }
   ],
   "source": [
    "salt_join.count()"
   ]
  },
  {
   "cell_type": "code",
   "execution_count": 70,
   "id": "564ae22a",
   "metadata": {},
   "outputs": [],
   "source": [
    "#df_join\n",
    "df_join = df.join(countries,'country','inner')"
   ]
  },
  {
   "cell_type": "code",
   "execution_count": 71,
   "id": "2dc4fff0",
   "metadata": {},
   "outputs": [
    {
     "name": "stdout",
     "output_type": "stream",
     "text": [
      "+-------+--------+------+---+\n",
      "|country|    name|amount| id|\n",
      "+-------+--------+------+---+\n",
      "|Germany|   James|999630| 14|\n",
      "|Germany|   James|177267| 14|\n",
      "|Germany|   James|129971| 14|\n",
      "| Russia|     Bob|791559| 15|\n",
      "| Russia|   James|399181| 15|\n",
      "| Russia|    null|401923| 15|\n",
      "| Russia|     Bob|508072| 15|\n",
      "|    USA|   James|378797| 13|\n",
      "|    USA|     Bob|992981| 13|\n",
      "|    USA|Johannes|653504| 13|\n",
      "|    USA|Johannes|818971| 13|\n",
      "|    USA|     Bob|608366| 13|\n",
      "|    USA|   Marek|831918| 13|\n",
      "|    USA|    null|631175| 13|\n",
      "|    USA|   Marek|553477| 13|\n",
      "|    USA|    null|170128| 13|\n",
      "|    USA|     Bob|170951| 13|\n",
      "|    USA|     Bob|973444| 13|\n",
      "|    USA|   Marek|491460| 13|\n",
      "|    USA|   James|791681| 13|\n",
      "+-------+--------+------+---+\n",
      "only showing top 20 rows\n",
      "\n"
     ]
    }
   ],
   "source": [
    "df_join.show()"
   ]
  },
  {
   "cell_type": "code",
   "execution_count": 72,
   "id": "20ed1371",
   "metadata": {},
   "outputs": [
    {
     "name": "stdout",
     "output_type": "stream",
     "text": [
      "+--------------------+-----+\n",
      "|SPARK_PARTITION_ID()|count|\n",
      "+--------------------+-----+\n",
      "|                   0|  100|\n",
      "+--------------------+-----+\n",
      "\n"
     ]
    }
   ],
   "source": [
    "salt_join.groupBy(spark_partition_id()).count().show()"
   ]
  },
  {
   "cell_type": "code",
   "execution_count": 73,
   "id": "5dae9f37",
   "metadata": {},
   "outputs": [
    {
     "name": "stdout",
     "output_type": "stream",
     "text": [
      "+--------------------+-----+\n",
      "|SPARK_PARTITION_ID()|count|\n",
      "+--------------------+-----+\n",
      "|                   0|  100|\n",
      "+--------------------+-----+\n",
      "\n"
     ]
    }
   ],
   "source": [
    "df_join.groupBy(spark_partition_id()).count().show()"
   ]
  },
  {
   "cell_type": "code",
   "execution_count": null,
   "id": "43c72c7e",
   "metadata": {},
   "outputs": [],
   "source": []
  }
 ],
 "metadata": {
  "kernelspec": {
   "display_name": "Python 3 (ipykernel)",
   "language": "python",
   "name": "python3"
  },
  "language_info": {
   "codemirror_mode": {
    "name": "ipython",
    "version": 3
   },
   "file_extension": ".py",
   "mimetype": "text/x-python",
   "name": "python",
   "nbconvert_exporter": "python",
   "pygments_lexer": "ipython3",
   "version": "3.10.1"
  }
 },
 "nbformat": 4,
 "nbformat_minor": 5
}
