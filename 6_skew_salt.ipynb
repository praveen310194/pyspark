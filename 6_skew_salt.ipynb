{
 "cells": [
  {
   "cell_type": "code",
   "execution_count": 1,
   "id": "9488a2e6",
   "metadata": {},
   "outputs": [],
   "source": [
    "import findspark\n",
    "findspark.init()\n",
    "\n",
    "import pyspark\n",
    "from pyspark.sql import SparkSession\n",
    "from pyspark.sql.functions import *\n",
    "spark = SparkSession.builder.master(\"local[*]\").appName(\"skew_salt\").getOrCreate()"
   ]
  },
  {
   "cell_type": "code",
   "execution_count": 2,
   "id": "5fdf85f7",
   "metadata": {},
   "outputs": [
    {
     "data": {
      "text/html": [
       "\n",
       "            <div>\n",
       "                <p><b>SparkSession - in-memory</b></p>\n",
       "                \n",
       "        <div>\n",
       "            <p><b>SparkContext</b></p>\n",
       "\n",
       "            <p><a href=\"http://praveen:4040\">Spark UI</a></p>\n",
       "\n",
       "            <dl>\n",
       "              <dt>Version</dt>\n",
       "                <dd><code>v3.3.0</code></dd>\n",
       "              <dt>Master</dt>\n",
       "                <dd><code>local[*]</code></dd>\n",
       "              <dt>AppName</dt>\n",
       "                <dd><code>skew_salt</code></dd>\n",
       "            </dl>\n",
       "        </div>\n",
       "        \n",
       "            </div>\n",
       "        "
      ],
      "text/plain": [
       "<pyspark.sql.session.SparkSession at 0x1822ab1a020>"
      ]
     },
     "execution_count": 2,
     "metadata": {},
     "output_type": "execute_result"
    }
   ],
   "source": [
    "spark"
   ]
  },
  {
   "cell_type": "code",
   "execution_count": 4,
   "id": "c4959cbe",
   "metadata": {},
   "outputs": [],
   "source": [
    "#pip install pandas"
   ]
  },
  {
   "cell_type": "code",
   "execution_count": 3,
   "id": "e915fd63",
   "metadata": {},
   "outputs": [],
   "source": [
    "import pandas as pd\n",
    "import numpy as np"
   ]
  },
  {
   "cell_type": "code",
   "execution_count": 4,
   "id": "955ae69e",
   "metadata": {},
   "outputs": [],
   "source": [
    "# set smaller number of partitions so they can fit the screen\n",
    "# sc.conf.set('spark.sql.shuffle.partitions', 8)\n",
    "# disable broadcast join to see the shuffle\n",
    "spark.conf.set(\"spark.sql.autoBroadcastJoinThreshold\", -1)"
   ]
  },
  {
   "cell_type": "code",
   "execution_count": 5,
   "id": "12c8f26a",
   "metadata": {},
   "outputs": [],
   "source": [
    "length = 100\n",
    "names = np.random.choice(['Bob', 'James', 'Marek', 'Johannes', None], length)\n",
    "amounts = np.random.randint(0, 1000000, length)"
   ]
  },
  {
   "cell_type": "code",
   "execution_count": 8,
   "id": "6d9e2bb4",
   "metadata": {},
   "outputs": [
    {
     "name": "stdout",
     "output_type": "stream",
     "text": [
      "['James' 'James' 'Johannes' 'Marek' None None 'Bob' 'Johannes' None\n",
      " 'James' 'Bob' 'Bob' None None 'Marek' 'Marek' 'Marek' None 'Bob' 'Marek'\n",
      " 'Bob' None 'Bob' 'James' None None 'Johannes' 'Marek' 'Marek' 'Bob' None\n",
      " 'Marek' None 'Bob' 'Johannes' 'James' 'James' None 'Marek' 'James'\n",
      " 'Marek' 'James' 'Marek' 'James' 'Johannes' 'James' None 'James' 'Bob'\n",
      " 'James' 'Marek' 'Marek' 'Johannes' 'James' None 'Bob' 'James' 'Bob'\n",
      " 'James' 'Bob' 'Johannes' None None 'James' None None 'Johannes'\n",
      " 'Johannes' 'Marek' 'Bob' 'Bob' 'Johannes' 'Bob' 'James' 'Marek' 'Marek'\n",
      " 'Bob' 'James' None 'James' 'Marek' None 'Bob' 'Johannes' None 'Bob' None\n",
      " 'Marek' 'Johannes' 'Bob' 'Johannes' None 'Marek' 'Bob' 'James' None\n",
      " 'James' 'James' None 'James']\n"
     ]
    }
   ],
   "source": [
    "print(names)"
   ]
  },
  {
   "cell_type": "code",
   "execution_count": 9,
   "id": "b6cb4aa9",
   "metadata": {},
   "outputs": [
    {
     "name": "stdout",
     "output_type": "stream",
     "text": [
      "[415523 526016 329009 741505 729006 763874 101315 345270 477497 515888\n",
      " 449283 444624  42344  36856  22324 933766 270533 711415 808580 896006\n",
      " 398079 578318 440501 232889 786761 255736 755368 710084 751007 824194\n",
      " 332865 323453 267510 985654 616481 901723 163663 345692 539667  38124\n",
      " 634412  50019 892369  71741 565325 554397 261314 728657  33462 661247\n",
      " 972108 862378  58600 799678 591453  68644 470973 320570 170025 881181\n",
      " 239856 226658 308870  86050 499837 647465 440730 752870 683358 534478\n",
      " 565361 430192 832993 907432 911245  45338 357045 218894 356328 860536\n",
      " 184344 773296 303027 413171 492678 494122  21275 156342 600580 486393\n",
      " 159647 680783 406734 116453 904879 814014 926786 654790 472809 840631]\n"
     ]
    }
   ],
   "source": [
    "print(amounts)"
   ]
  },
  {
   "cell_type": "code",
   "execution_count": 6,
   "id": "4f2d9aac",
   "metadata": {},
   "outputs": [],
   "source": [
    "# generate skewed data\n",
    "country = np.random.choice(\n",
    "\t['United Kingdom', 'Poland', 'USA', 'Germany', 'Russia'],\n",
    "\tlength,\n",
    "\tp = [0.05, 0.05, 0.8, 0.05, 0.05]\n",
    ")"
   ]
  },
  {
   "cell_type": "code",
   "execution_count": 11,
   "id": "7eba0f93",
   "metadata": {},
   "outputs": [
    {
     "data": {
      "text/plain": [
       "array(['USA', 'Germany', 'USA', 'Russia', 'Poland', 'Germany', 'USA',\n",
       "       'USA', 'Russia', 'Russia', 'USA', 'USA', 'USA', 'USA', 'Poland',\n",
       "       'USA', 'USA', 'USA', 'USA', 'USA', 'USA', 'Germany', 'Germany',\n",
       "       'Poland', 'USA', 'USA', 'USA', 'United Kingdom', 'USA', 'USA',\n",
       "       'USA', 'Poland', 'Poland', 'USA', 'Poland', 'Poland', 'USA', 'USA',\n",
       "       'USA', 'USA', 'Poland', 'USA', 'Russia', 'USA', 'Poland', 'USA',\n",
       "       'Poland', 'USA', 'USA', 'USA', 'USA', 'USA', 'USA', 'USA',\n",
       "       'United Kingdom', 'USA', 'USA', 'USA', 'USA', 'United Kingdom',\n",
       "       'USA', 'USA', 'United Kingdom', 'USA', 'USA', 'USA', 'USA', 'USA',\n",
       "       'USA', 'USA', 'USA', 'USA', 'USA', 'USA', 'United Kingdom', 'USA',\n",
       "       'USA', 'USA', 'USA', 'United Kingdom', 'USA', 'Russia', 'USA',\n",
       "       'USA', 'USA', 'USA', 'USA', 'Germany', 'USA', 'USA', 'USA', 'USA',\n",
       "       'USA', 'Poland', 'USA', 'USA', 'Poland', 'USA', 'USA', 'USA'],\n",
       "      dtype='<U14')"
      ]
     },
     "execution_count": 11,
     "metadata": {},
     "output_type": "execute_result"
    }
   ],
   "source": [
    "country"
   ]
  },
  {
   "cell_type": "code",
   "execution_count": 12,
   "id": "fd56e2f7",
   "metadata": {},
   "outputs": [
    {
     "data": {
      "text/plain": [
       "{'Germany': 5, 'Poland': 12, 'Russia': 5, 'USA': 72, 'United Kingdom': 6}"
      ]
     },
     "execution_count": 12,
     "metadata": {},
     "output_type": "execute_result"
    }
   ],
   "source": [
    "value,counts = np.unique(country,return_counts = True)\n",
    "dict(zip(value,counts))"
   ]
  },
  {
   "cell_type": "code",
   "execution_count": 7,
   "id": "4998d1ce",
   "metadata": {},
   "outputs": [
    {
     "name": "stderr",
     "output_type": "stream",
     "text": [
      "C:\\pyspark\\spark-3.3.0-bin-hadoop3\\python\\pyspark\\sql\\pandas\\conversion.py:474: FutureWarning: iteritems is deprecated and will be removed in a future version. Use .items instead.\n",
      "  for column, series in pdf.iteritems():\n",
      "C:\\pyspark\\spark-3.3.0-bin-hadoop3\\python\\pyspark\\sql\\pandas\\conversion.py:486: FutureWarning: iteritems is deprecated and will be removed in a future version. Use .items instead.\n",
      "  for column, series in pdf.iteritems():\n"
     ]
    }
   ],
   "source": [
    "#spark.conf.set(\"spark.sql.execution.arrow.enabled\",\"true\")\n",
    "data = pd.DataFrame({'name': names, 'amount': amounts, 'country': country})\n",
    "#transactions = spark.createDataFrame(data).repartition('country')\n",
    "#data = [{'name': names, 'amount': amounts, 'country': country}]\n",
    "df = spark.createDataFrame(data)"
   ]
  },
  {
   "cell_type": "code",
   "execution_count": 8,
   "id": "f9b47a00",
   "metadata": {},
   "outputs": [
    {
     "data": {
      "text/plain": [
       "100"
      ]
     },
     "execution_count": 8,
     "metadata": {},
     "output_type": "execute_result"
    }
   ],
   "source": [
    "df.count()"
   ]
  },
  {
   "cell_type": "code",
   "execution_count": 19,
   "id": "31bfa509",
   "metadata": {},
   "outputs": [],
   "source": [
    "countries = spark.createDataFrame(pd.DataFrame({\n",
    "\t'id': [11, 12, 13, 14, 15],\n",
    "\t'country': ['United Kingdom', 'Poland', 'USA', 'Germany', 'Russia']\n",
    "}))"
   ]
  },
  {
   "cell_type": "code",
   "execution_count": 20,
   "id": "28e77cac",
   "metadata": {},
   "outputs": [
    {
     "data": {
      "text/plain": [
       "5"
      ]
     },
     "execution_count": 20,
     "metadata": {},
     "output_type": "execute_result"
    }
   ],
   "source": [
    "countries.count()"
   ]
  },
  {
   "cell_type": "code",
   "execution_count": 21,
   "id": "00f6c8e1",
   "metadata": {},
   "outputs": [
    {
     "name": "stdout",
     "output_type": "stream",
     "text": [
      "+--------------------+-----+\n",
      "|SPARK_PARTITION_ID()|count|\n",
      "+--------------------+-----+\n",
      "|                   7|   16|\n",
      "|                   0|   12|\n",
      "|                   2|   12|\n",
      "|                   1|   12|\n",
      "|                   6|   12|\n",
      "|                   3|   12|\n",
      "|                   4|   12|\n",
      "|                   5|   12|\n",
      "+--------------------+-----+\n",
      "\n"
     ]
    }
   ],
   "source": [
    "df.groupBy(spark_partition_id()).count().orderBy(desc(\"count\")).show()"
   ]
  },
  {
   "cell_type": "code",
   "execution_count": 22,
   "id": "2bfc8905",
   "metadata": {},
   "outputs": [],
   "source": [
    "df_join = df.join(countries, 'country')"
   ]
  },
  {
   "cell_type": "code",
   "execution_count": 23,
   "id": "1cf5f3d1",
   "metadata": {},
   "outputs": [
    {
     "name": "stdout",
     "output_type": "stream",
     "text": [
      "{0: [Row(country='Germany', name='James', amount=526016, id=14), Row(country='Germany', name=None, amount=763874, id=14), Row(country='Germany', name=None, amount=578318, id=14), Row(country='Germany', name='Bob', amount=440501, id=14), Row(country='Germany', name='Marek', amount=156342, id=14), Row(country='Poland', name=None, amount=729006, id=12), Row(country='Poland', name='Marek', amount=22324, id=12), Row(country='Poland', name='James', amount=232889, id=12), Row(country='Poland', name='Marek', amount=323453, id=12), Row(country='Poland', name=None, amount=267510, id=12), Row(country='Poland', name='Johannes', amount=616481, id=12), Row(country='Poland', name='James', amount=901723, id=12), Row(country='Poland', name='Marek', amount=634412, id=12), Row(country='Poland', name='Johannes', amount=565325, id=12), Row(country='Poland', name=None, amount=261314, id=12), Row(country='Poland', name='Bob', amount=116453, id=12), Row(country='Poland', name='James', amount=926786, id=12), Row(country='Russia', name='Marek', amount=741505, id=15), Row(country='Russia', name=None, amount=477497, id=15), Row(country='Russia', name='James', amount=515888, id=15), Row(country='Russia', name='Marek', amount=892369, id=15), Row(country='Russia', name=None, amount=773296, id=15), Row(country='USA', name='James', amount=415523, id=13), Row(country='USA', name='Johannes', amount=329009, id=13), Row(country='USA', name='Bob', amount=101315, id=13), Row(country='USA', name='Johannes', amount=345270, id=13), Row(country='USA', name='Bob', amount=449283, id=13), Row(country='USA', name='Bob', amount=444624, id=13), Row(country='USA', name=None, amount=42344, id=13), Row(country='USA', name=None, amount=36856, id=13), Row(country='USA', name='Marek', amount=933766, id=13), Row(country='USA', name='Marek', amount=270533, id=13), Row(country='USA', name=None, amount=711415, id=13), Row(country='USA', name='Bob', amount=808580, id=13), Row(country='USA', name='Marek', amount=896006, id=13), Row(country='USA', name='Bob', amount=398079, id=13), Row(country='USA', name=None, amount=786761, id=13), Row(country='USA', name=None, amount=255736, id=13), Row(country='USA', name='Johannes', amount=755368, id=13), Row(country='USA', name='Marek', amount=751007, id=13), Row(country='USA', name='Bob', amount=824194, id=13), Row(country='USA', name=None, amount=332865, id=13), Row(country='USA', name='Bob', amount=985654, id=13), Row(country='USA', name='James', amount=163663, id=13), Row(country='USA', name=None, amount=345692, id=13), Row(country='USA', name='Marek', amount=539667, id=13), Row(country='USA', name='James', amount=38124, id=13), Row(country='USA', name='James', amount=50019, id=13), Row(country='USA', name='James', amount=71741, id=13), Row(country='USA', name='James', amount=554397, id=13), Row(country='USA', name='James', amount=728657, id=13), Row(country='USA', name='Bob', amount=33462, id=13), Row(country='USA', name='James', amount=661247, id=13), Row(country='USA', name='Marek', amount=972108, id=13), Row(country='USA', name='Marek', amount=862378, id=13), Row(country='USA', name='Johannes', amount=58600, id=13), Row(country='USA', name='James', amount=799678, id=13), Row(country='USA', name='Bob', amount=68644, id=13), Row(country='USA', name='James', amount=470973, id=13), Row(country='USA', name='Bob', amount=320570, id=13), Row(country='USA', name='James', amount=170025, id=13), Row(country='USA', name='Johannes', amount=239856, id=13), Row(country='USA', name=None, amount=226658, id=13), Row(country='USA', name='James', amount=86050, id=13), Row(country='USA', name=None, amount=499837, id=13), Row(country='USA', name=None, amount=647465, id=13), Row(country='USA', name='Johannes', amount=440730, id=13), Row(country='USA', name='Johannes', amount=752870, id=13), Row(country='USA', name='Marek', amount=683358, id=13), Row(country='USA', name='Bob', amount=534478, id=13), Row(country='USA', name='Bob', amount=565361, id=13), Row(country='USA', name='Johannes', amount=430192, id=13), Row(country='USA', name='Bob', amount=832993, id=13), Row(country='USA', name='James', amount=907432, id=13), Row(country='USA', name='Marek', amount=45338, id=13), Row(country='USA', name='Bob', amount=357045, id=13), Row(country='USA', name='James', amount=218894, id=13), Row(country='USA', name=None, amount=356328, id=13), Row(country='USA', name='Marek', amount=184344, id=13), Row(country='USA', name='Bob', amount=303027, id=13), Row(country='USA', name='Johannes', amount=413171, id=13), Row(country='USA', name=None, amount=492678, id=13), Row(country='USA', name='Bob', amount=494122, id=13), Row(country='USA', name=None, amount=21275, id=13), Row(country='USA', name='Johannes', amount=600580, id=13), Row(country='USA', name='Bob', amount=486393, id=13), Row(country='USA', name='Johannes', amount=159647, id=13), Row(country='USA', name=None, amount=680783, id=13), Row(country='USA', name='Marek', amount=406734, id=13), Row(country='USA', name='James', amount=904879, id=13), Row(country='USA', name=None, amount=814014, id=13), Row(country='USA', name='James', amount=654790, id=13), Row(country='USA', name=None, amount=472809, id=13), Row(country='USA', name='James', amount=840631, id=13), Row(country='United Kingdom', name='Marek', amount=710084, id=11), Row(country='United Kingdom', name=None, amount=591453, id=11), Row(country='United Kingdom', name='Bob', amount=881181, id=11), Row(country='United Kingdom', name=None, amount=308870, id=11), Row(country='United Kingdom', name='Marek', amount=911245, id=11), Row(country='United Kingdom', name='James', amount=860536, id=11)]}\n"
     ]
    }
   ],
   "source": [
    "# check the partitions data\n",
    "for i, part in enumerate(df_join.rdd.glom().collect()):\n",
    "\tprint({i: part})"
   ]
  },
  {
   "cell_type": "code",
   "execution_count": 25,
   "id": "4181984c",
   "metadata": {},
   "outputs": [
    {
     "name": "stdout",
     "output_type": "stream",
     "text": [
      "+-------+--------+------+---+\n",
      "|country|    name|amount| id|\n",
      "+-------+--------+------+---+\n",
      "|Germany|   James|526016| 14|\n",
      "|Germany|    null|763874| 14|\n",
      "|Germany|    null|578318| 14|\n",
      "|Germany|     Bob|440501| 14|\n",
      "|Germany|   Marek|156342| 14|\n",
      "| Poland|    null|729006| 12|\n",
      "| Poland|   Marek| 22324| 12|\n",
      "| Poland|   James|232889| 12|\n",
      "| Poland|   Marek|323453| 12|\n",
      "| Poland|    null|267510| 12|\n",
      "| Poland|Johannes|616481| 12|\n",
      "| Poland|   James|901723| 12|\n",
      "| Poland|   Marek|634412| 12|\n",
      "| Poland|Johannes|565325| 12|\n",
      "| Poland|    null|261314| 12|\n",
      "| Poland|     Bob|116453| 12|\n",
      "| Poland|   James|926786| 12|\n",
      "| Russia|   Marek|741505| 15|\n",
      "| Russia|    null|477497| 15|\n",
      "| Russia|   James|515888| 15|\n",
      "+-------+--------+------+---+\n",
      "only showing top 20 rows\n",
      "\n"
     ]
    }
   ],
   "source": [
    "df_join.show()"
   ]
  },
  {
   "cell_type": "code",
   "execution_count": 32,
   "id": "2bcc340e",
   "metadata": {},
   "outputs": [
    {
     "name": "stdout",
     "output_type": "stream",
     "text": [
      "+-------+--------+------+---+\n",
      "|country|    name|amount| id|\n",
      "+-------+--------+------+---+\n",
      "| Russia|   James|622217| 15|\n",
      "|    USA|Johannes|567364| 13|\n",
      "|    USA|   James|196858| 13|\n",
      "+-------+--------+------+---+\n",
      "only showing top 3 rows\n",
      "\n"
     ]
    }
   ],
   "source": [
    "df_broadcast = transactions.join(broadcast(countries), 'country')\n",
    "df_broadcast.show(3)"
   ]
  },
  {
   "cell_type": "code",
   "execution_count": 46,
   "id": "da948a36",
   "metadata": {},
   "outputs": [
    {
     "data": {
      "text/plain": [
       "45"
      ]
     },
     "execution_count": 46,
     "metadata": {},
     "output_type": "execute_result"
    }
   ],
   "source": [
    "salt = np.random.randint(1, 200 - 1)\n",
    "salt"
   ]
  },
  {
   "cell_type": "code",
   "execution_count": 44,
   "id": "cef1d1b5",
   "metadata": {},
   "outputs": [
    {
     "name": "stdout",
     "output_type": "stream",
     "text": [
      "1\n"
     ]
    }
   ],
   "source": [
    "print(df.rdd.getNumPartitions())"
   ]
  },
  {
   "cell_type": "code",
   "execution_count": 48,
   "id": "51f8bbda",
   "metadata": {},
   "outputs": [],
   "source": [
    "salted_countries = countries.withColumn(\n",
    "    'salt',\n",
    "    explode(array([lit(i) for i in range(salt)])))"
   ]
  },
  {
   "cell_type": "code",
   "execution_count": 50,
   "id": "85f4cc8f",
   "metadata": {},
   "outputs": [
    {
     "name": "stdout",
     "output_type": "stream",
     "text": [
      "+---+--------------+----+\n",
      "| id|       country|salt|\n",
      "+---+--------------+----+\n",
      "| 11|United Kingdom|   0|\n",
      "| 11|United Kingdom|   1|\n",
      "| 11|United Kingdom|   2|\n",
      "| 11|United Kingdom|   3|\n",
      "| 11|United Kingdom|   4|\n",
      "| 11|United Kingdom|   5|\n",
      "| 11|United Kingdom|   6|\n",
      "| 11|United Kingdom|   7|\n",
      "| 11|United Kingdom|   8|\n",
      "| 11|United Kingdom|   9|\n",
      "| 11|United Kingdom|  10|\n",
      "| 11|United Kingdom|  11|\n",
      "| 11|United Kingdom|  12|\n",
      "| 11|United Kingdom|  13|\n",
      "| 11|United Kingdom|  14|\n",
      "| 11|United Kingdom|  15|\n",
      "| 11|United Kingdom|  16|\n",
      "| 11|United Kingdom|  17|\n",
      "| 11|United Kingdom|  18|\n",
      "| 11|United Kingdom|  19|\n",
      "+---+--------------+----+\n",
      "only showing top 20 rows\n",
      "\n"
     ]
    }
   ],
   "source": [
    "salted_countries.show(20)"
   ]
  },
  {
   "cell_type": "code",
   "execution_count": 51,
   "id": "054b3304",
   "metadata": {},
   "outputs": [],
   "source": [
    "salted_transactions = transactions.withColumn('salt', round(rand() * salt))"
   ]
  },
  {
   "cell_type": "code",
   "execution_count": 52,
   "id": "abb7c874",
   "metadata": {},
   "outputs": [
    {
     "name": "stdout",
     "output_type": "stream",
     "text": [
      "+--------+------+-------+----+\n",
      "|    name|amount|country|salt|\n",
      "+--------+------+-------+----+\n",
      "|   James|622217| Russia|15.0|\n",
      "|Johannes|567364|    USA| 5.0|\n",
      "|   James|196858|    USA| 3.0|\n",
      "|   James|333152|    USA|27.0|\n",
      "|   Marek|728314|    USA|28.0|\n",
      "|   James|471889|    USA|16.0|\n",
      "|Johannes|960402|    USA|10.0|\n",
      "|     Bob|486396|    USA|13.0|\n",
      "|     Bob|736981|    USA|34.0|\n",
      "|Johannes|375164|    USA|27.0|\n",
      "|   Marek| 12631|    USA|27.0|\n",
      "|    null|688780| Poland|23.0|\n",
      "|   Marek|125713| Russia|32.0|\n",
      "|   Marek|318116|Germany|12.0|\n",
      "|    null|179841|Germany|38.0|\n",
      "|    null|482374|    USA| 2.0|\n",
      "|Johannes|263538|    USA|14.0|\n",
      "|   James|926235|    USA| 6.0|\n",
      "|    null|531462|    USA|17.0|\n",
      "|Johannes|777230|    USA|12.0|\n",
      "+--------+------+-------+----+\n",
      "only showing top 20 rows\n",
      "\n"
     ]
    }
   ],
   "source": [
    "salted_transactions.show()"
   ]
  },
  {
   "cell_type": "code",
   "execution_count": 54,
   "id": "4ce303dd",
   "metadata": {},
   "outputs": [],
   "source": [
    "df2 = salted_transactions.join(salted_countries, ['country', 'salt'] ).drop('salt')"
   ]
  },
  {
   "cell_type": "code",
   "execution_count": 55,
   "id": "b76c806a",
   "metadata": {},
   "outputs": [
    {
     "name": "stdout",
     "output_type": "stream",
     "text": [
      "+-------+--------+------+---+\n",
      "|country|    name|amount| id|\n",
      "+-------+--------+------+---+\n",
      "|Germany|   Marek|318116| 14|\n",
      "|Germany|   Marek|453900| 14|\n",
      "|Germany|    null|179841| 14|\n",
      "|Germany|Johannes|  3456| 14|\n",
      "| Poland|Johannes|922173| 12|\n",
      "| Poland|    null|108694| 12|\n",
      "| Poland|     Bob|509229| 12|\n",
      "| Poland|    null|688780| 12|\n",
      "| Poland|Johannes|402074| 12|\n",
      "| Russia|   James|622217| 15|\n",
      "| Russia|Johannes|624933| 15|\n",
      "| Russia|   Marek|714491| 15|\n",
      "| Russia|   Marek|125713| 15|\n",
      "|    USA|     Bob| 75298| 13|\n",
      "|    USA|    null|482374| 13|\n",
      "|    USA|   Marek|953144| 13|\n",
      "|    USA|   Marek|611482| 13|\n",
      "|    USA|   James|196858| 13|\n",
      "|    USA|     Bob|247591| 13|\n",
      "|    USA|     Bob|752279| 13|\n",
      "+-------+--------+------+---+\n",
      "only showing top 20 rows\n",
      "\n"
     ]
    }
   ],
   "source": [
    "df2.show()"
   ]
  },
  {
   "cell_type": "code",
   "execution_count": null,
   "id": "614226bd",
   "metadata": {},
   "outputs": [],
   "source": []
  }
 ],
 "metadata": {
  "kernelspec": {
   "display_name": "Python 3 (ipykernel)",
   "language": "python",
   "name": "python3"
  },
  "language_info": {
   "codemirror_mode": {
    "name": "ipython",
    "version": 3
   },
   "file_extension": ".py",
   "mimetype": "text/x-python",
   "name": "python",
   "nbconvert_exporter": "python",
   "pygments_lexer": "ipython3",
   "version": "3.10.1"
  }
 },
 "nbformat": 4,
 "nbformat_minor": 5
}
