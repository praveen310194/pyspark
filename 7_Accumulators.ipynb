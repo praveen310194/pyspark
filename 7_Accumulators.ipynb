{
 "cells": [
  {
   "cell_type": "code",
   "execution_count": 1,
   "id": "d4f7e4c5",
   "metadata": {},
   "outputs": [],
   "source": [
    "import findspark\n",
    "findspark.init()\n",
    "\n",
    "import pyspark\n",
    "from pyspark.sql import SparkSession\n",
    "from pyspark.sql.functions import *\n",
    "spark = SparkSession.builder.master(\"local[1]\").appName(\"accumulators\").getOrCreate()"
   ]
  },
  {
   "cell_type": "code",
   "execution_count": 2,
   "id": "0e7bdcf0",
   "metadata": {},
   "outputs": [],
   "source": [
    "l1 = [\"a abc\",\"b abc\",\"c abc\"]\n",
    "l2 = ['a abc','b abc']\n",
    "l3 = [\"abc\",\"edf\",\"ghi\"]"
   ]
  },
  {
   "cell_type": "code",
   "execution_count": null,
   "id": "f01e3dbf",
   "metadata": {},
   "outputs": [],
   "source": []
  },
  {
   "cell_type": "code",
   "execution_count": 4,
   "id": "ca68797a",
   "metadata": {},
   "outputs": [],
   "source": [
    "#1.map(lambda x:x.uppercase())\n",
    "rd1 = spark.sparkContext.parallelize(l1)\n",
    "rd2 = spark.sparkContext.parallelize(l2)\n",
    "rd3 = spark.sparkContext.parallelize(l3)"
   ]
  },
  {
   "cell_type": "code",
   "execution_count": 6,
   "id": "51610498",
   "metadata": {},
   "outputs": [
    {
     "data": {
      "text/plain": [
       "['A ABC', 'B ABC', 'C ABC']"
      ]
     },
     "execution_count": 6,
     "metadata": {},
     "output_type": "execute_result"
    }
   ],
   "source": [
    "rd1.map(lambda x:(x.upper())).collect()"
   ]
  },
  {
   "cell_type": "code",
   "execution_count": 7,
   "id": "50022095",
   "metadata": {},
   "outputs": [
    {
     "data": {
      "text/plain": [
       "['A ABC', 'B ABC']"
      ]
     },
     "execution_count": 7,
     "metadata": {},
     "output_type": "execute_result"
    }
   ],
   "source": [
    "rd2.map(lambda x:(x.upper())).collect()"
   ]
  },
  {
   "cell_type": "code",
   "execution_count": 8,
   "id": "3080ca16",
   "metadata": {},
   "outputs": [
    {
     "data": {
      "text/plain": [
       "['ABC', 'EDF', 'GHI']"
      ]
     },
     "execution_count": 8,
     "metadata": {},
     "output_type": "execute_result"
    }
   ],
   "source": [
    "rd3.map(lambda x:(x.upper())).collect()"
   ]
  },
  {
   "cell_type": "code",
   "execution_count": 9,
   "id": "051554e6",
   "metadata": {},
   "outputs": [
    {
     "data": {
      "text/plain": [
       "['A', ' ', 'A', 'B', 'C', 'B', ' ', 'A', 'B', 'C', 'C', ' ', 'A', 'B', 'C']"
      ]
     },
     "execution_count": 9,
     "metadata": {},
     "output_type": "execute_result"
    }
   ],
   "source": [
    "rd1.flatMap(lambda x:(x.upper())).collect()"
   ]
  },
  {
   "cell_type": "code",
   "execution_count": 10,
   "id": "71a5e8f9",
   "metadata": {},
   "outputs": [
    {
     "data": {
      "text/plain": [
       "['A', ' ', 'A', 'B', 'C', 'B', ' ', 'A', 'B', 'C']"
      ]
     },
     "execution_count": 10,
     "metadata": {},
     "output_type": "execute_result"
    }
   ],
   "source": [
    "rd2.flatMap(lambda x:(x.upper())).collect()"
   ]
  },
  {
   "cell_type": "code",
   "execution_count": 11,
   "id": "c633ba03",
   "metadata": {},
   "outputs": [
    {
     "data": {
      "text/plain": [
       "['A', 'B', 'C', 'E', 'D', 'F', 'G', 'H', 'I']"
      ]
     },
     "execution_count": 11,
     "metadata": {},
     "output_type": "execute_result"
    }
   ],
   "source": [
    "rd3.flatMap(lambda x:(x.upper())).collect()"
   ]
  },
  {
   "cell_type": "code",
   "execution_count": 2,
   "id": "c0b68b90",
   "metadata": {},
   "outputs": [],
   "source": [
    "def check_count(df):\n",
    "    df_accumulator = spark.sparkContext.accumulator(0)\n",
    "    df.foreach(lambda x:df_accumulator.add(1))\n",
    "    return df_accumulator"
   ]
  },
  {
   "cell_type": "code",
   "execution_count": 12,
   "id": "696a9b39",
   "metadata": {},
   "outputs": [
    {
     "name": "stdout",
     "output_type": "stream",
     "text": [
      "+----+-----+---+\n",
      "|  id|names|age|\n",
      "+----+-----+---+\n",
      "|   1|  ram| 33|\n",
      "|   2| raki| 30|\n",
      "|   3|  raj| 29|\n",
      "|   4|rohit| 35|\n",
      "|null|krish| 28|\n",
      "+----+-----+---+\n",
      "\n"
     ]
    }
   ],
   "source": [
    "data = [(1,'ram',33),(2,'raki',30),(3,'raj',29),(4,'rohit',35),(None,'krish',28)]\n",
    "cols = ['id','names','age']s\n",
    "df = spark.createDataFrame(data = data, schema = cols)\n",
    "df.show()"
   ]
  },
  {
   "cell_type": "code",
   "execution_count": 4,
   "id": "7d729c75",
   "metadata": {},
   "outputs": [
    {
     "data": {
      "text/html": [
       "\n",
       "            <div>\n",
       "                <p><b>SparkSession - in-memory</b></p>\n",
       "                \n",
       "        <div>\n",
       "            <p><b>SparkContext</b></p>\n",
       "\n",
       "            <p><a href=\"http://LAPTOP-4MH8SQBJ:4041\">Spark UI</a></p>\n",
       "\n",
       "            <dl>\n",
       "              <dt>Version</dt>\n",
       "                <dd><code>v3.3.0</code></dd>\n",
       "              <dt>Master</dt>\n",
       "                <dd><code>local[1]</code></dd>\n",
       "              <dt>AppName</dt>\n",
       "                <dd><code>accumulators</code></dd>\n",
       "            </dl>\n",
       "        </div>\n",
       "        \n",
       "            </div>\n",
       "        "
      ],
      "text/plain": [
       "<pyspark.sql.session.SparkSession at 0x138f3d5a020>"
      ]
     },
     "execution_count": 4,
     "metadata": {},
     "output_type": "execute_result"
    }
   ],
   "source": [
    "spark"
   ]
  },
  {
   "cell_type": "code",
   "execution_count": 5,
   "id": "ef5df15c",
   "metadata": {},
   "outputs": [
    {
     "name": "stdout",
     "output_type": "stream",
     "text": [
      "5\n"
     ]
    }
   ],
   "source": [
    "print(check_count(df))"
   ]
  },
  {
   "cell_type": "code",
   "execution_count": 6,
   "id": "cc87226b",
   "metadata": {},
   "outputs": [
    {
     "data": {
      "text/plain": [
       "5"
      ]
     },
     "execution_count": 6,
     "metadata": {},
     "output_type": "execute_result"
    }
   ],
   "source": [
    "df.count()"
   ]
  },
  {
   "cell_type": "code",
   "execution_count": null,
   "id": "464150c1",
   "metadata": {},
   "outputs": [],
   "source": []
  },
  {
   "cell_type": "code",
   "execution_count": 13,
   "id": "d7386fcf",
   "metadata": {},
   "outputs": [
    {
     "name": "stdout",
     "output_type": "stream",
     "text": [
      "+---+-----+------+\n",
      "| id|cu_id|amount|\n",
      "+---+-----+------+\n",
      "|  1|    1|   100|\n",
      "|  2|    2|   200|\n",
      "|  3|    1|   300|\n",
      "|  4|    3|   300|\n",
      "|  5|    2|   100|\n",
      "|  6|    3|   100|\n",
      "|  7| null|   500|\n",
      "|  8|    4|   400|\n",
      "|  9|    5|   100|\n",
      "+---+-----+------+\n",
      "\n"
     ]
    }
   ],
   "source": [
    "data = [(1,1,100),(2,2,200),(3,1,300),(4,3,300),(5,2,100),(6,3,100),(7,None,500),(8,4,400),(9,5,100)]\n",
    "cols = ['id','cu_id','amount']\n",
    "df1 = spark.createDataFrame(data = data, schema = cols)\n",
    "df1.show()"
   ]
  },
  {
   "cell_type": "code",
   "execution_count": 16,
   "id": "660162f9",
   "metadata": {},
   "outputs": [
    {
     "name": "stdout",
     "output_type": "stream",
     "text": [
      "+----+\n",
      "|  id|\n",
      "+----+\n",
      "|   1|\n",
      "|   2|\n",
      "|   3|\n",
      "|   4|\n",
      "|null|\n",
      "+----+\n",
      "\n"
     ]
    }
   ],
   "source": [
    "dff = df.select('id')\n",
    "dff.show()"
   ]
  },
  {
   "cell_type": "code",
   "execution_count": 28,
   "id": "6919529d",
   "metadata": {},
   "outputs": [
    {
     "name": "stdout",
     "output_type": "stream",
     "text": [
      "+-----+\n",
      "|cu_id|\n",
      "+-----+\n",
      "| null|\n",
      "|    5|\n",
      "|    1|\n",
      "|    3|\n",
      "|    2|\n",
      "|    4|\n",
      "+-----+\n",
      "\n"
     ]
    }
   ],
   "source": [
    "dff1 = df1.select(col('cu_id')).distinct()\n",
    "dff1.show()"
   ]
  },
  {
   "cell_type": "code",
   "execution_count": 29,
   "id": "efcec1d4",
   "metadata": {},
   "outputs": [
    {
     "name": "stdout",
     "output_type": "stream",
     "text": [
      "+---+-----+\n",
      "| id|cu_id|\n",
      "+---+-----+\n",
      "|  1|    1|\n",
      "|  3|    3|\n",
      "|  2|    2|\n",
      "|  4|    4|\n",
      "+---+-----+\n",
      "\n"
     ]
    }
   ],
   "source": [
    "#inner join\n",
    "dff.join(dff1,dff.id==dff1.cu_id).show()"
   ]
  },
  {
   "cell_type": "code",
   "execution_count": 30,
   "id": "ffcb738c",
   "metadata": {},
   "outputs": [
    {
     "name": "stdout",
     "output_type": "stream",
     "text": [
      "+----+-----+\n",
      "|  id|cu_id|\n",
      "+----+-----+\n",
      "|null| null|\n",
      "|   1|    1|\n",
      "|   3|    3|\n",
      "|   2|    2|\n",
      "|   4|    4|\n",
      "+----+-----+\n",
      "\n"
     ]
    }
   ],
   "source": [
    "#left join\n",
    "dff.join(dff1,dff.id==dff1.cu_id,'left').show()"
   ]
  },
  {
   "cell_type": "code",
   "execution_count": 31,
   "id": "e150aa16",
   "metadata": {},
   "outputs": [
    {
     "name": "stdout",
     "output_type": "stream",
     "text": [
      "+----+-----+\n",
      "|  id|cu_id|\n",
      "+----+-----+\n",
      "|null| null|\n",
      "|null|    5|\n",
      "|   1|    1|\n",
      "|   3|    3|\n",
      "|   2|    2|\n",
      "|   4|    4|\n",
      "+----+-----+\n",
      "\n"
     ]
    }
   ],
   "source": [
    "#right join\n",
    "dff.join(dff1,dff.id==dff1.cu_id,'right').show()"
   ]
  },
  {
   "cell_type": "code",
   "execution_count": 32,
   "id": "7180f7ea",
   "metadata": {
    "scrolled": true
   },
   "outputs": [
    {
     "name": "stdout",
     "output_type": "stream",
     "text": [
      "+----+-----+\n",
      "|  id|cu_id|\n",
      "+----+-----+\n",
      "|null| null|\n",
      "|null| null|\n",
      "|   1|    1|\n",
      "|   2|    2|\n",
      "|   3|    3|\n",
      "|   4|    4|\n",
      "|null|    5|\n",
      "+----+-----+\n",
      "\n"
     ]
    }
   ],
   "source": [
    "dff.join(dff1,dff.id==dff1.cu_id,'outer').show()"
   ]
  },
  {
   "cell_type": "code",
   "execution_count": null,
   "id": "dc01b97d",
   "metadata": {},
   "outputs": [],
   "source": [
    "df_acc = spark.sparkContext.accumulator(0)\n",
    "df1_acc = spark.sparkContext.accumulator(0)"
   ]
  },
  {
   "cell_type": "code",
   "execution_count": null,
   "id": "351237d9",
   "metadata": {},
   "outputs": [],
   "source": [
    "df.foreach(lambda x:df_acc.add(1))\n",
    "df1.foreach(lambda x:df1_acc.add(1))"
   ]
  },
  {
   "cell_type": "code",
   "execution_count": null,
   "id": "f56a25d1",
   "metadata": {},
   "outputs": [],
   "source": [
    "print(df_acc.value)\n",
    "print(df1_acc.value)"
   ]
  },
  {
   "cell_type": "code",
   "execution_count": null,
   "id": "b2cd71ef",
   "metadata": {},
   "outputs": [],
   "source": [
    "print(df.count())\n",
    "print(df1.count())"
   ]
  },
  {
   "cell_type": "code",
   "execution_count": null,
   "id": "ea37f084",
   "metadata": {},
   "outputs": [],
   "source": [
    "spark"
   ]
  },
  {
   "cell_type": "code",
   "execution_count": null,
   "id": "dc6e26a9",
   "metadata": {},
   "outputs": [],
   "source": []
  }
 ],
 "metadata": {
  "kernelspec": {
   "display_name": "Python 3 (ipykernel)",
   "language": "python",
   "name": "python3"
  },
  "language_info": {
   "codemirror_mode": {
    "name": "ipython",
    "version": 3
   },
   "file_extension": ".py",
   "mimetype": "text/x-python",
   "name": "python",
   "nbconvert_exporter": "python",
   "pygments_lexer": "ipython3",
   "version": "3.10.1"
  }
 },
 "nbformat": 4,
 "nbformat_minor": 5
}
