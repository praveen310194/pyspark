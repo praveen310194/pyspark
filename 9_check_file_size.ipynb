{
 "cells": [
  {
   "cell_type": "code",
   "execution_count": 1,
   "id": "b98efafb",
   "metadata": {},
   "outputs": [],
   "source": [
    "import findspark\n",
    "findspark.init()\n",
    "\n",
    "import pyspark\n",
    "from pyspark.sql import SparkSession\n",
    "from pyspark.sql.functions import *\n",
    "spark = SparkSession.builder.master(\"local[2]\").appName(\"file_size\").getOrCreate()"
   ]
  },
  {
   "cell_type": "code",
   "execution_count": 2,
   "id": "b2e17f51",
   "metadata": {},
   "outputs": [
    {
     "data": {
      "text/html": [
       "\n",
       "            <div>\n",
       "                <p><b>SparkSession - in-memory</b></p>\n",
       "                \n",
       "        <div>\n",
       "            <p><b>SparkContext</b></p>\n",
       "\n",
       "            <p><a href=\"http://LAPTOP-4MH8SQBJ:4040\">Spark UI</a></p>\n",
       "\n",
       "            <dl>\n",
       "              <dt>Version</dt>\n",
       "                <dd><code>v3.3.0</code></dd>\n",
       "              <dt>Master</dt>\n",
       "                <dd><code>local[2]</code></dd>\n",
       "              <dt>AppName</dt>\n",
       "                <dd><code>file_size</code></dd>\n",
       "            </dl>\n",
       "        </div>\n",
       "        \n",
       "            </div>\n",
       "        "
      ],
      "text/plain": [
       "<pyspark.sql.session.SparkSession at 0x1f8a1efa020>"
      ]
     },
     "execution_count": 2,
     "metadata": {},
     "output_type": "execute_result"
    }
   ],
   "source": [
    "spark"
   ]
  },
  {
   "cell_type": "code",
   "execution_count": 3,
   "id": "be71c097",
   "metadata": {},
   "outputs": [],
   "source": [
    "df = spark.read.option(\"header\",True).csv(\"../sales.csv\")"
   ]
  },
  {
   "cell_type": "code",
   "execution_count": 4,
   "id": "c64ce994",
   "metadata": {},
   "outputs": [
    {
     "name": "stdout",
     "output_type": "stream",
     "text": [
      "+----------+-------+----------+------------+--------+------+----------+-----------+--------+\n",
      "|      Date|Product|Cost Price|Sell Price  |Quantity|Amount|Product_id|Customer_id|Customer|\n",
      "+----------+-------+----------+------------+--------+------+----------+-----------+--------+\n",
      "|01-01-2019|   soap|        25|        27.5|       6|   165|         1|          1| praveen|\n",
      "+----------+-------+----------+------------+--------+------+----------+-----------+--------+\n",
      "only showing top 1 row\n",
      "\n"
     ]
    }
   ],
   "source": [
    "df.show(1)"
   ]
  },
  {
   "cell_type": "code",
   "execution_count": 5,
   "id": "f28ed88e",
   "metadata": {},
   "outputs": [
    {
     "name": "stdout",
     "output_type": "stream",
     "text": [
      "+----------+-------+----------+------------+--------+------+----------+-----------+--------+\n",
      "|      Date|Product|Cost Price|Sell Price  |Quantity|Amount|Product_id|Customer_id|Customer|\n",
      "+----------+-------+----------+------------+--------+------+----------+-----------+--------+\n",
      "|01-01-2019|   soap|        25|        27.5|       6|   165|         1|          1| praveen|\n",
      "|01-02-2019|   milk|        22|        24.2|       2|  48.4|         2|          1| praveen|\n",
      "|01-03-2019|  dress|       600|         660|       1|   660|         3|          1| praveen|\n",
      "|01-04-2019|biscuts|        50|          55|       5|   275|         4|          1| praveen|\n",
      "|01-05-2019| chacos|        75|        82.5|       5| 412.5|         5|          1| praveen|\n",
      "|01-06-2019|  shoes|       759|       834.9|       4|3339.6|         6|          1| praveen|\n",
      "|01-07-2019|   fish|       229|       251.9|       2| 503.8|         7|          1| praveen|\n",
      "|01-08-2019|   rice|       995|      1094.5|       8|  8756|         8|          1| praveen|\n",
      "|01-09-2019|   soap|        25|        27.5|       6|   165|         1|          2|   srinu|\n",
      "|01-10-2019|   milk|        22|        24.2|      12| 290.4|         2|          2|   srinu|\n",
      "|01-11-2019|  dress|       600|         660|      48| 31680|         3|          2|   srinu|\n",
      "|01-12-2019|biscuts|        50|          55|       9|   495|         4|          2|   srinu|\n",
      "|01-01-2020| chacos|        75|        82.5|       2|   165|         5|          2|   srinu|\n",
      "|01-02-2020|  shoes|       759|       834.9|       4|3339.6|         6|          2|   srinu|\n",
      "|01-03-2020|   fish|       229|       251.9|       5|1259.5|         7|          2|   srinu|\n",
      "|01-04-2020|   rice|       995|      1094.5|       6|  6567|         8|          2|   srinu|\n",
      "|01-05-2020|   soap|        25|        27.5|      42|  1155|         1|          3|     sai|\n",
      "|01-06-2020|   milk|        22|        24.2|       4|  96.8|         2|          3|     sai|\n",
      "|01-07-2020|  dress|       600|         660|       5|  3300|         3|          3|     sai|\n",
      "|01-08-2020|biscuts|        50|          55|       2|   110|         4|          3|     sai|\n",
      "+----------+-------+----------+------------+--------+------+----------+-----------+--------+\n",
      "only showing top 20 rows\n",
      "\n"
     ]
    }
   ],
   "source": [
    "df.show()"
   ]
  },
  {
   "cell_type": "code",
   "execution_count": 6,
   "id": "55769507",
   "metadata": {},
   "outputs": [
    {
     "data": {
      "text/plain": [
       "36"
      ]
     },
     "execution_count": 6,
     "metadata": {},
     "output_type": "execute_result"
    }
   ],
   "source": [
    "df.count()"
   ]
  },
  {
   "cell_type": "code",
   "execution_count": 7,
   "id": "9d28448d",
   "metadata": {},
   "outputs": [
    {
     "data": {
      "text/plain": [
       "36"
      ]
     },
     "execution_count": 7,
     "metadata": {},
     "output_type": "execute_result"
    }
   ],
   "source": [
    "df.count()"
   ]
  },
  {
   "cell_type": "code",
   "execution_count": null,
   "id": "edc3e61e",
   "metadata": {},
   "outputs": [],
   "source": []
  }
 ],
 "metadata": {
  "kernelspec": {
   "display_name": "Python 3 (ipykernel)",
   "language": "python",
   "name": "python3"
  },
  "language_info": {
   "codemirror_mode": {
    "name": "ipython",
    "version": 3
   },
   "file_extension": ".py",
   "mimetype": "text/x-python",
   "name": "python",
   "nbconvert_exporter": "python",
   "pygments_lexer": "ipython3",
   "version": "3.10.1"
  }
 },
 "nbformat": 4,
 "nbformat_minor": 5
}
