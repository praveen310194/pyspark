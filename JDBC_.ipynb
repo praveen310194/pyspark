{
 "cells": [
  {
   "cell_type": "code",
   "execution_count": 1,
   "id": "ea9df768",
   "metadata": {},
   "outputs": [],
   "source": [
    "import findspark\n",
    "findspark.init()"
   ]
  },
  {
   "cell_type": "code",
   "execution_count": 2,
   "id": "96b467a8",
   "metadata": {},
   "outputs": [],
   "source": [
    "import pyspark\n",
    "from pyspark.sql import SparkSession\n",
    "from pyspark.sql.functions import *\n",
    "spark = SparkSession.builder.master(\"local[1]\").appName(\"sql_read\").getOrCreate()"
   ]
  },
  {
   "cell_type": "code",
   "execution_count": 3,
   "id": "1891e0a7",
   "metadata": {},
   "outputs": [],
   "source": [
    "user = \"praveen\"\n",
    "password = \"pr@123.com\"\n",
    "database = \"praveen_db\"\n",
    "table = \"dbo.family\"\n",
    "#PRAVEEN\n",
    "#localhost/1433"
   ]
  },
  {
   "cell_type": "raw",
   "id": "99b64dba",
   "metadata": {},
   "source": [
    "#read table data into a spark dataframe\n",
    "jdbcDF = spark.read.format(\"jdbc\") \\\n",
    "    .option(\"url\", \"jdbc:sqlserver://localhost:1433;encrypt=true;trustServerCertificate=true;databaseName={praveen_db};\") \\\n",
    "    .option(\"driver\", \"com.microsoft.sqlserver.jdbc.SQLServerDriver\") \\\n",
    "    .option(\"dbtable\", table) \\\n",
    "    .option(\"user\", user) \\\n",
    "    .option(\"password\", password) \\    \n",
    "    .load()"
   ]
  },
  {
   "cell_type": "code",
   "execution_count": 5,
   "id": "ad8a8e6f",
   "metadata": {},
   "outputs": [
    {
     "name": "stdout",
     "output_type": "stream",
     "text": [
      "+---------+------+---+---------+\n",
      "|member_id|  name|age|parent_id|\n",
      "+---------+------+---+---------+\n",
      "|        1|  jhon| 70|     null|\n",
      "|        2|   set| 40|        1|\n",
      "|        3| joset| 35|        1|\n",
      "|        4|  sony| 18|        2|\n",
      "|        5|mondey| 12|        2|\n",
      "|        6|  jhon|  8|        3|\n",
      "+---------+------+---+---------+\n",
      "\n"
     ]
    }
   ],
   "source": [
    "jdbcDF.show()"
   ]
  },
  {
   "cell_type": "code",
   "execution_count": 7,
   "id": "de77349f",
   "metadata": {},
   "outputs": [],
   "source": [
    "jdbcDF = spark.read.format(\"jdbc\") \\\n",
    "    .option(\"url\", \"jdbc:sqlserver://localhost:1433;encrypt=true;trustServerCertificate=true;databaseName={praveen_db};\") \\\n",
    "    .option(\"driver\", \"com.microsoft.sqlserver.jdbc.SQLServerDriver\") \\\n",
    "    .option(\"user\", user) \\\n",
    "    .option(\"password\", password) \\\n",
    "    .option(\"query\",'select * from family where age>15')\\\n",
    "    .load()"
   ]
  },
  {
   "cell_type": "code",
   "execution_count": 8,
   "id": "820f5efb",
   "metadata": {},
   "outputs": [
    {
     "name": "stdout",
     "output_type": "stream",
     "text": [
      "+---------+-----+---+---------+\n",
      "|member_id| name|age|parent_id|\n",
      "+---------+-----+---+---------+\n",
      "|        1| jhon| 70|     null|\n",
      "|        2|  set| 40|        1|\n",
      "|        3|joset| 35|        1|\n",
      "|        4| sony| 18|        2|\n",
      "+---------+-----+---+---------+\n",
      "\n"
     ]
    }
   ],
   "source": [
    "jdbcDF.show()"
   ]
  },
  {
   "cell_type": "code",
   "execution_count": null,
   "id": "4ce0852c",
   "metadata": {},
   "outputs": [],
   "source": []
  },
  {
   "cell_type": "code",
   "execution_count": 7,
   "id": "9334826b",
   "metadata": {},
   "outputs": [],
   "source": [
    "rdd1 = jdbcDF.rdd"
   ]
  },
  {
   "cell_type": "code",
   "execution_count": 11,
   "id": "d2c50a4b",
   "metadata": {},
   "outputs": [],
   "source": [
    "from pyspark.serializers import PickleSerializer, AutoBatchedSerializer\n",
    "def _to_java_object_rdd(rdd):  \n",
    "    \"\"\" Return a JavaRDD of Object by unpickling\n",
    "    It will convert each Python object into Java object by Pyrolite, whenever the\n",
    "    RDD is serialized in batch or not.\n",
    "    \"\"\"\n",
    "    rdd = rdd._reserialize(AutoBatchedSerializer(PickleSerializer()))\n",
    "    return rdd.ctx._jvm.org.apache.spark.mllib.api.python.SerDe.pythonToJava(rdd._jrdd, True)\n",
    "\n",
    "JavaObj = _to_java_object_rdd(rdd1)\n",
    "\n",
    "nbytes = spark._jvm.org.apache.spark.util.SizeEstimator.estimate(JavaObj)"
   ]
  },
  {
   "cell_type": "code",
   "execution_count": 14,
   "id": "ce4bca93",
   "metadata": {},
   "outputs": [
    {
     "data": {
      "text/plain": [
       "3.021484375"
      ]
     },
     "execution_count": 14,
     "metadata": {},
     "output_type": "execute_result"
    }
   ],
   "source": [
    "(nbytes/1024)/1024"
   ]
  },
  {
   "cell_type": "code",
   "execution_count": 15,
   "id": "d5cab166",
   "metadata": {},
   "outputs": [
    {
     "data": {
      "text/html": [
       "\n",
       "            <div>\n",
       "                <p><b>SparkSession - in-memory</b></p>\n",
       "                \n",
       "        <div>\n",
       "            <p><b>SparkContext</b></p>\n",
       "\n",
       "            <p><a href=\"http://praveen:4040\">Spark UI</a></p>\n",
       "\n",
       "            <dl>\n",
       "              <dt>Version</dt>\n",
       "                <dd><code>v3.3.0</code></dd>\n",
       "              <dt>Master</dt>\n",
       "                <dd><code>local[1]</code></dd>\n",
       "              <dt>AppName</dt>\n",
       "                <dd><code>sql_read</code></dd>\n",
       "            </dl>\n",
       "        </div>\n",
       "        \n",
       "            </div>\n",
       "        "
      ],
      "text/plain": [
       "<pyspark.sql.session.SparkSession at 0x1a3a870e0b0>"
      ]
     },
     "execution_count": 15,
     "metadata": {},
     "output_type": "execute_result"
    }
   ],
   "source": [
    "spark"
   ]
  },
  {
   "cell_type": "code",
   "execution_count": 16,
   "id": "85e9ff97",
   "metadata": {},
   "outputs": [
    {
     "data": {
      "text/plain": [
       "DataFrame[member_id: int, name: string, age: int, parent_id: int]"
      ]
     },
     "execution_count": 16,
     "metadata": {},
     "output_type": "execute_result"
    }
   ],
   "source": [
    "jdbcDF.cache()"
   ]
  },
  {
   "cell_type": "code",
   "execution_count": 17,
   "id": "43674621",
   "metadata": {},
   "outputs": [
    {
     "name": "stdout",
     "output_type": "stream",
     "text": [
      "+---------+------+---+---------+\n",
      "|member_id|  name|age|parent_id|\n",
      "+---------+------+---+---------+\n",
      "|        1|  jhon| 70|     null|\n",
      "|        2|   set| 40|        1|\n",
      "|        3| joset| 35|        1|\n",
      "|        4|  sony| 18|        2|\n",
      "|        5|mondey| 12|        2|\n",
      "|        6|  jhon|  8|        3|\n",
      "+---------+------+---+---------+\n",
      "\n"
     ]
    }
   ],
   "source": [
    "jdbcDF.show()"
   ]
  },
  {
   "cell_type": "code",
   "execution_count": 20,
   "id": "f0d0f543",
   "metadata": {},
   "outputs": [
    {
     "data": {
      "text/plain": [
       "MapPartitionsRDD[7] at javaToPython at DirectMethodHandleAccessor.java:104"
      ]
     },
     "execution_count": 20,
     "metadata": {},
     "output_type": "execute_result"
    }
   ],
   "source": [
    "rdd1.persist()"
   ]
  },
  {
   "cell_type": "code",
   "execution_count": 21,
   "id": "cb6e4cfd",
   "metadata": {},
   "outputs": [
    {
     "data": {
      "text/plain": [
       "[Row(member_id=1, name='jhon', age=70, parent_id=None),\n",
       " Row(member_id=2, name='set', age=40, parent_id=1),\n",
       " Row(member_id=3, name='joset', age=35, parent_id=1),\n",
       " Row(member_id=4, name='sony', age=18, parent_id=2),\n",
       " Row(member_id=5, name='mondey', age=12, parent_id=2),\n",
       " Row(member_id=6, name='jhon', age=8, parent_id=3)]"
      ]
     },
     "execution_count": 21,
     "metadata": {},
     "output_type": "execute_result"
    }
   ],
   "source": [
    "rdd1.collect()"
   ]
  },
  {
   "cell_type": "code",
   "execution_count": 22,
   "id": "ca2f6043",
   "metadata": {},
   "outputs": [
    {
     "data": {
      "text/plain": [
       "DataFrame[member_id: int, name: string, age: int, parent_id: int]"
      ]
     },
     "execution_count": 22,
     "metadata": {},
     "output_type": "execute_result"
    }
   ],
   "source": [
    "jdbcDF.unpersist()"
   ]
  },
  {
   "cell_type": "code",
   "execution_count": 23,
   "id": "29985ca1",
   "metadata": {},
   "outputs": [
    {
     "data": {
      "text/plain": [
       "MapPartitionsRDD[7] at javaToPython at DirectMethodHandleAccessor.java:104"
      ]
     },
     "execution_count": 23,
     "metadata": {},
     "output_type": "execute_result"
    }
   ],
   "source": [
    "rdd1.unpersist()"
   ]
  },
  {
   "cell_type": "code",
   "execution_count": null,
   "id": "f302765d",
   "metadata": {},
   "outputs": [],
   "source": []
  }
 ],
 "metadata": {
  "kernelspec": {
   "display_name": "Python 3 (ipykernel)",
   "language": "python",
   "name": "python3"
  },
  "language_info": {
   "codemirror_mode": {
    "name": "ipython",
    "version": 3
   },
   "file_extension": ".py",
   "mimetype": "text/x-python",
   "name": "python",
   "nbconvert_exporter": "python",
   "pygments_lexer": "ipython3",
   "version": "3.10.1"
  }
 },
 "nbformat": 4,
 "nbformat_minor": 5
}
