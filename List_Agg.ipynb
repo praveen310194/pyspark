{
 "cells": [
  {
   "cell_type": "code",
   "execution_count": 1,
   "id": "c76c83df",
   "metadata": {},
   "outputs": [],
   "source": [
    "import findspark\n",
    "findspark.init()\n",
    "\n",
    "import pyspark\n",
    "from pyspark.sql import SparkSession\n",
    "from pyspark.sql.functions import *\n",
    "spark = SparkSession.builder.master(\"local[1]\").appName(\"sql_read\").getOrCreate()"
   ]
  },
  {
   "cell_type": "code",
   "execution_count": 9,
   "id": "7db07bfb",
   "metadata": {},
   "outputs": [
    {
     "name": "stdout",
     "output_type": "stream",
     "text": [
      "+---+-----+---+\n",
      "| id|names|age|\n",
      "+---+-----+---+\n",
      "|  1|  ram| 26|\n",
      "|  1| raki| 25|\n",
      "|  1|  raj| 33|\n",
      "|  2|rohit| 23|\n",
      "|  2|krish| 24|\n",
      "|  3|  sai| 24|\n",
      "+---+-----+---+\n",
      "\n"
     ]
    }
   ],
   "source": [
    "data = [(1,'ram',26),(1,'raki',25),(1,'raj',33),(2,'rohit',23),(2,'krish',24),(3,'sai',24)]\n",
    "cols = ['id','names','age']\n",
    "customer = spark.createDataFrame(data = data, schema = cols)\n",
    "customer.show()"
   ]
  },
  {
   "cell_type": "code",
   "execution_count": 10,
   "id": "28a47a46",
   "metadata": {},
   "outputs": [
    {
     "name": "stdout",
     "output_type": "stream",
     "text": [
      "+---+------------+\n",
      "| id|         new|\n",
      "+---+------------+\n",
      "|  1|raki|ram|raj|\n",
      "|  3|         sai|\n",
      "|  2| rohit|krish|\n",
      "+---+------------+\n",
      "\n"
     ]
    }
   ],
   "source": [
    "customer.orderBy('age').groupBy('id').agg(concat_ws(\"|\", collect_list('names')).alias('new')).show()"
   ]
  },
  {
   "cell_type": "code",
   "execution_count": 15,
   "id": "449717d0",
   "metadata": {},
   "outputs": [
    {
     "ename": "SyntaxError",
     "evalue": "invalid syntax. Perhaps you forgot a comma? (Temp/ipykernel_2940/1592316135.py, line 1)",
     "output_type": "error",
     "traceback": [
      "\u001b[1;36m  File \u001b[1;32m\"C:\\Users\\praveen\\AppData\\Local\\Temp/ipykernel_2940/1592316135.py\"\u001b[1;36m, line \u001b[1;32m1\u001b[0m\n\u001b[1;33m    customer.selctExpr(id, LISTAGG(new,'|') within group(order by age) as nex GROUP BY id)\u001b[0m\n\u001b[1;37m                           ^\u001b[0m\n\u001b[1;31mSyntaxError\u001b[0m\u001b[1;31m:\u001b[0m invalid syntax. Perhaps you forgot a comma?\n"
     ]
    }
   ],
   "source": [
    "customer.selctExpr(id, STRING_AGG(new,'|') within group(order by age) as nex GROUP BY id)"
   ]
  },
  {
   "cell_type": "code",
   "execution_count": null,
   "id": "096a7a1d",
   "metadata": {},
   "outputs": [],
   "source": []
  }
 ],
 "metadata": {
  "kernelspec": {
   "display_name": "Python 3 (ipykernel)",
   "language": "python",
   "name": "python3"
  },
  "language_info": {
   "codemirror_mode": {
    "name": "ipython",
    "version": 3
   },
   "file_extension": ".py",
   "mimetype": "text/x-python",
   "name": "python",
   "nbconvert_exporter": "python",
   "pygments_lexer": "ipython3",
   "version": "3.10.1"
  }
 },
 "nbformat": 4,
 "nbformat_minor": 5
}
