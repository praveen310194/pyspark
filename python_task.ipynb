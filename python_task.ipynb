{
 "cells": [
  {
   "cell_type": "code",
   "execution_count": 1,
   "id": "20477f89",
   "metadata": {},
   "outputs": [],
   "source": [
    "import pandas as pd\n",
    "import numpy as np"
   ]
  },
  {
   "cell_type": "markdown",
   "id": "ff91f8ce",
   "metadata": {},
   "source": [
    "'''\n",
    "xoriant \n",
    "task-1\n",
    "You have a 2-D array of friends like [[A,B],[A,C],[B,D],[B,C],[R,M], [S],[P], [A]]. \n",
    "Write a function that creates a dictionary of how many friends each person has. \n",
    "People can have 0 to many friends. However, there won't be repeat relationships \n",
    "like [A,B] and [B,A] and neither will there be more than 2 people in a relationship\n",
    "task-2\n",
    "input array: [1,None,2,3,None,None,5,None]\n",
    "output array: [1,1,2,3,3,3,5,5]\n",
    "'''\n"
   ]
  },
  {
   "cell_type": "code",
   "execution_count": 3,
   "id": "dc36c0af",
   "metadata": {},
   "outputs": [],
   "source": [
    "fr = [['A','B'],['A','C'],['B','D'],['B','C'],['R','M'], ['S'],['P'], ['A']]"
   ]
  },
  {
   "cell_type": "code",
   "execution_count": 6,
   "id": "5c9069b3",
   "metadata": {},
   "outputs": [],
   "source": [
    "dic = {}"
   ]
  },
  {
   "cell_type": "code",
   "execution_count": 12,
   "id": "2ed9fa09",
   "metadata": {},
   "outputs": [
    {
     "name": "stdout",
     "output_type": "stream",
     "text": [
      "{'A': 1, 'B': 2, 'R': 2, 'S': 1, 'P': 1}\n"
     ]
    }
   ],
   "source": [
    "for i in fr:\n",
    "    if\n",
    "    key=i[0]\n",
    "    value=len(i)    \n",
    "    dic.update({key:value})    \n",
    "    \n",
    "print(dic)"
   ]
  },
  {
   "cell_type": "code",
   "execution_count": 13,
   "id": "984c99bb",
   "metadata": {},
   "outputs": [
    {
     "data": {
      "text/plain": [
       "[1, None, 2, 3, None, None, 5, None]"
      ]
     },
     "execution_count": 13,
     "metadata": {},
     "output_type": "execute_result"
    }
   ],
   "source": [
    "l1 =  [1,None,2,3,None,None,5,None]\n",
    "l1"
   ]
  },
  {
   "cell_type": "code",
   "execution_count": 14,
   "id": "0d4b062a",
   "metadata": {},
   "outputs": [
    {
     "name": "stdout",
     "output_type": "stream",
     "text": [
      "1\n",
      "None\n",
      "2\n",
      "3\n",
      "None\n",
      "None\n",
      "5\n",
      "None\n"
     ]
    }
   ],
   "source": []
  },
  {
   "cell_type": "code",
   "execution_count": null,
   "id": "4e513848",
   "metadata": {},
   "outputs": [],
   "source": []
  }
 ],
 "metadata": {
  "kernelspec": {
   "display_name": "Python 3 (ipykernel)",
   "language": "python",
   "name": "python3"
  },
  "language_info": {
   "codemirror_mode": {
    "name": "ipython",
    "version": 3
   },
   "file_extension": ".py",
   "mimetype": "text/x-python",
   "name": "python",
   "nbconvert_exporter": "python",
   "pygments_lexer": "ipython3",
   "version": "3.10.1"
  }
 },
 "nbformat": 4,
 "nbformat_minor": 5
}
